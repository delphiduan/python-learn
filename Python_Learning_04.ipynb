{
 "cells": [
  {
   "cell_type": "markdown",
   "metadata": {},
   "source": [
    "# 分支循环\n",
    "\n",
    "## 分支\n",
    "- 基本语法\n",
    "\n",
    "    if 条件表达式：\n",
    "        语句1#一个块\n",
    "        语句2\n",
    "        语句3\n",
    "        ……\n",
    "- 条件表达式必须是布尔值的表达式，语法+语义\n",
    "- 表达式后面冒号不能少\n",
    "- 注意if后面出现的语句，如果属于if语句块，则必须同一个缩进等级；\n",
    "- 条件表达式结果为True执行if后面的缩进的语句块\n"
   ]
  },
  {
   "cell_type": "code",
   "execution_count": 4,
   "metadata": {},
   "outputs": [
    {
     "name": "stdout",
     "output_type": "stream",
     "text": [
      "开课\n"
     ]
    }
   ],
   "source": [
    "#if语句\n",
    "age = 19\n",
    "if age < 18:\n",
    "    print(\"回去找家长\")\n",
    "    print(\"不跟你玩\")\n",
    "    print(\"滚球\")\n",
    "    \n",
    "print(\"开课\")"
   ]
  },
  {
   "cell_type": "markdown",
   "metadata": {},
   "source": [
    "## 双向分支\n",
    "- if……else……语句\n",
    "\n",
    "    if条件表达式：\n",
    "        语句1\n",
    "        语句2\n",
    "        ……\n",
    "    else：\n",
    "        语句1\n",
    "        语句2\n",
    "        ……\n",
    "- 双向分支有两个分支，当执行程序执行到i……else，只能执行一个\n",
    "- 缩进一个层级\n"
   ]
  },
  {
   "cell_type": "code",
   "execution_count": 14,
   "metadata": {},
   "outputs": [
    {
     "name": "stdout",
     "output_type": "stream",
     "text": [
      "请输入你的性别nan\n",
      "你输入的性别是：nan\n",
      "你不过节\n"
     ]
    }
   ],
   "source": [
    "gender = input(\"请输入你的性别\") #input 返回一定字符串\n",
    "print(\"你输入的性别是：{0}\".format(gender))#格式化\n",
    "\n",
    "if gender == \"女\":\n",
    "    print(\"三八节快乐\")\n",
    "else:\n",
    "    print(\"你不过节\")"
   ]
  },
  {
   "cell_type": "code",
   "execution_count": 28,
   "metadata": {},
   "outputs": [
    {
     "name": "stdout",
     "output_type": "stream",
     "text": [
      "输入成绩：95\n",
      "A\n"
     ]
    }
   ],
   "source": [
    "score = input(\"输入成绩：\")\n",
    "score = int(score)\n",
    "if score >= 90:\n",
    "    print(\"A\")\n",
    "if score >= 80 and score < 90:\n",
    "    print(\"B\")\n",
    "if score>= 70 and score < 80:\n",
    "    print(\"C\")\n",
    "if score>= 60 and score <70:\n",
    "    print(\"D\")\n",
    "if score < 60:\n",
    "    print(\"回家背书\")"
   ]
  },
  {
   "cell_type": "markdown",
   "metadata": {},
   "source": [
    "## 多路分支\n",
    "    if 表达式：\n",
    "    elif 表达式：\n",
    "    elif 表达式:\n",
    "    else\n",
    "- elif 多路\n",
    "- else可选\n",
    "- 只会执行一个会执行\n",
    "    "
   ]
  },
  {
   "cell_type": "code",
   "execution_count": 27,
   "metadata": {},
   "outputs": [
    {
     "name": "stdout",
     "output_type": "stream",
     "text": [
      "输入成绩：25\n",
      "回家背书\n"
     ]
    }
   ],
   "source": [
    "score = input(\"输入成绩：\")\n",
    "score = int(score)\n",
    "if score >= 90:\n",
    "    print(\"A\")\n",
    "elif score >= 80:\n",
    "    print(\"B\")\n",
    "elif score>= 70 :\n",
    "    print(\"C\")\n",
    "elif score>= 60:\n",
    "    print(\"D\")\n",
    "else:\n",
    "    print(\"回家背书\")"
   ]
  },
  {
   "cell_type": "markdown",
   "metadata": {},
   "source": [
    "## if语句其他：\n",
    "- if语句可以嵌套使用，但不推荐\n",
    "\n",
    "## for循环\n",
    "- for 循环\n",
    "\n",
    "    for 变量 in 序列：\n",
    "        语句1\n",
    "        语句2\n",
    "        ……\n",
    "- 列表一列数字或其他值，一般用中括号"
   ]
  },
  {
   "cell_type": "code",
   "execution_count": 39,
   "metadata": {},
   "outputs": [
    {
     "name": "stdout",
     "output_type": "stream",
     "text": [
      "delphi\n",
      "whs\n",
      "rzj\n",
      "18\n"
     ]
    }
   ],
   "source": [
    "for name in ['delphi','whs',\"rzj\",18]:\n",
    "    print(name)"
   ]
  },
  {
   "cell_type": "code",
   "execution_count": 41,
   "metadata": {},
   "outputs": [
    {
     "name": "stdout",
     "output_type": "stream",
     "text": [
      "delphi\n",
      "是人\n",
      "whs\n",
      "是人\n",
      "rzj\n",
      "是人\n",
      "18\n",
      "不是人\n"
     ]
    }
   ],
   "source": [
    "for name in ['delphi','whs',\"rzj\",18]:\n",
    "    print(name)\n",
    "    if name == 18:\n",
    "        print(\"不是人\")\n",
    "    else:\n",
    "        print(\"是人\")"
   ]
  },
  {
   "cell_type": "code",
   "execution_count": 52,
   "metadata": {},
   "outputs": [
    {
     "name": "stdout",
     "output_type": "stream",
     "text": [
      "1\n",
      "2\n",
      "3\n",
      "4\n",
      "5\n",
      "6\n",
      "7\n",
      "8\n",
      "9\n",
      "10\n"
     ]
    }
   ],
   "source": [
    "#rang生成一个数字序列；具体范围可以设定,右边是开区间；\n",
    "#randint是特例到包含\n",
    "for i in range(1,11):\n",
    "    print(i)"
   ]
  },
  {
   "cell_type": "markdown",
   "metadata": {},
   "source": [
    "## for else语句\n",
    "- 当for循环结束都会执行else语句\n",
    "- else语句是可选\n"
   ]
  },
  {
   "cell_type": "code",
   "execution_count": 54,
   "metadata": {},
   "outputs": [
    {
     "name": "stdout",
     "output_type": "stream",
     "text": [
      "delphi\n",
      "whs\n",
      "rzj\n",
      "18\n",
      "go back\n"
     ]
    }
   ],
   "source": [
    "for name in ['delphi','whs',\"rzj\",18]:\n",
    "    print(name)\n",
    "else:\n",
    "    print(\"go back\")"
   ]
  },
  {
   "cell_type": "markdown",
   "metadata": {},
   "source": [
    "##  循环之beak，continue，pass\n",
    "- break：无条件结束循环，简称循环猝死；\n",
    "- continue： 无条件结束，进入新一轮\n",
    "- pass 表示略过\n"
   ]
  },
  {
   "cell_type": "code",
   "execution_count": 60,
   "metadata": {},
   "outputs": [
    {
     "name": "stdout",
     "output_type": "stream",
     "text": [
      "1\n",
      "2\n",
      "3\n",
      "4\n",
      "5\n",
      "6\n",
      "我找到了7\n"
     ]
    }
   ],
   "source": [
    "#一般命名用i，k，m，n或者indx，idx，item之类\n",
    "# 在python中，如果循环变量不重要，可以用_代替\n",
    "for i in range(1,11):\n",
    "    if i == 7:\n",
    "        print(\"我找到了{0}\".format(i))\n",
    "        break\n",
    "    else:\n",
    "        print(i)"
   ]
  },
  {
   "cell_type": "code",
   "execution_count": 62,
   "metadata": {},
   "outputs": [
    {
     "name": "stdout",
     "output_type": "stream",
     "text": [
      "2是偶数\n",
      "4是偶数\n",
      "6是偶数\n",
      "8是偶数\n",
      "10是偶数\n"
     ]
    }
   ],
   "source": [
    "for i in range(1,11):\n",
    "    if i % 2 == 0:\n",
    "        print(\"{0}是偶数\".format(i))"
   ]
  },
  {
   "cell_type": "code",
   "execution_count": 79,
   "metadata": {},
   "outputs": [
    {
     "name": "stdout",
     "output_type": "stream",
     "text": [
      "2是偶数\n",
      "4是偶数\n",
      "6是偶数\n",
      "8是偶数\n",
      "10是偶数\n"
     ]
    }
   ],
   "source": [
    "for k in range(1,11):\n",
    "    if k % 2 == 1:\n",
    "        continue\n",
    "        \n",
    "    print(\"{0}是偶数\".format(k))#缩进很重要\n"
   ]
  },
  {
   "cell_type": "code",
   "execution_count": 81,
   "metadata": {},
   "outputs": [
    {
     "name": "stdout",
     "output_type": "stream",
     "text": [
      "1\n",
      "2\n",
      "3\n",
      "4\n",
      "5\n",
      "6\n",
      "7\n",
      "8\n",
      "9\n",
      "10\n"
     ]
    }
   ],
   "source": [
    "# pass ，一般用于占位\n",
    "#没有跳过功能\n",
    "for i in range(1,11):\n",
    "    pass\n",
    "    print(i)"
   ]
  }
 ],
 "metadata": {
  "kernelspec": {
   "display_name": "Python 3",
   "language": "python",
   "name": "python3"
  },
  "language_info": {
   "codemirror_mode": {
    "name": "ipython",
    "version": 3
   },
   "file_extension": ".py",
   "mimetype": "text/x-python",
   "name": "python",
   "nbconvert_exporter": "python",
   "pygments_lexer": "ipython3",
   "version": "3.7.0"
  }
 },
 "nbformat": 4,
 "nbformat_minor": 2
}
