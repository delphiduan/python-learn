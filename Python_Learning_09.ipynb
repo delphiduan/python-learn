{
 "cells": [
  {
   "cell_type": "markdown",
   "metadata": {},
   "source": [
    "# 6.面向对象的三大特征\n",
    "- 封装\n",
    "- 继承\n",
    "- 多态\n",
    "## 6.1 封装\n",
    "- 封装就是对对象的成员进行访问限制\n",
    "    - 公开 public\\\n",
    "    - 受保护的 protected\n",
    "    - 私有的 private\n",
    "    public.protected.pribate都不是关键字\n",
    "- 判断对象位置\n",
    "    - 对象内部\n",
    "    - 对象外部\n",
    "    - 子类中\n",
    "- 私有\n",
    "    - 私有成员时最高级别的封装，只能在当前类或对象中访问\n",
    "    - 在成员前面加两个__\n",
    "    - python的是私有不是真私有，是一种name mangling改变策略\n",
    "    "
   ]
  },
  {
   "cell_type": "code",
   "execution_count": 1,
   "metadata": {},
   "outputs": [
    {
     "name": "stdout",
     "output_type": "stream",
     "text": [
      "{'__module__': '__main__', 'name': 'aaaa', '_Cc__age': 20, '__dict__': <attribute '__dict__' of 'Cc' objects>, '__weakref__': <attribute '__weakref__' of 'Cc' objects>, '__doc__': None}\n",
      "aaaa\n",
      "{'__module__': '__main__', 'name': 'aaaa', '_Cc__age': 20, '__dict__': <attribute '__dict__' of 'Cc' objects>, '__weakref__': <attribute '__weakref__' of 'Cc' objects>, '__doc__': None}\n"
     ]
    }
   ],
   "source": [
    "class Cc():\n",
    "    name = \"aaaa\"\n",
    "    __age =20\n",
    "\n",
    "b = Cc()\n",
    "#name共有变量\n",
    "print(Cc.__dict__)\n",
    "print(b.name)\n",
    "# print(b.__age)\n",
    "print(Cc.__dict__)"
   ]
  },
  {
   "cell_type": "markdown",
   "metadata": {},
   "source": [
    "## 6.2 继承\n",
    "- 继承就是一个类可以送用另一个类的成员属性和成员方法\n",
    "- 作用：减少代码，增强代码复用功能，同时可以设置类与类的直接关系\n",
    "- 继承与被继承的概念：\n",
    "    - 被继承的类叫父类，也叫基类，超类\n",
    "    - 用于继承的类叫之类，也叫派生类\n",
    "    - 继承与被继承一定存在is-A的关系\n",
    "- 继承的语法\n"
   ]
  },
  {
   "cell_type": "code",
   "execution_count": 4,
   "metadata": {},
   "outputs": [
    {
     "name": "stdout",
     "output_type": "stream",
     "text": [
      "noname\n"
     ]
    }
   ],
   "source": [
    "class Person():\n",
    "    name = \"noname\"\n",
    "    age = 0\n",
    "    def work(self):\n",
    "        print(\"eating\")\n",
    "\n",
    "class Man(Person):\n",
    "    pass\n",
    "\n",
    "print(Man.name)"
   ]
  },
  {
   "cell_type": "markdown",
   "metadata": {},
   "source": [
    "- 继承的特征：\n",
    "    - 所有的类都继承只object类\n",
    "    - 子类一旦继承父类，则可以使用父类的除私有外成员外的所有内容\n",
    "    - 子类继承父类是通过引用的关系访问调用的\n",
    "    - 子类可以定义独有的成员属性和方法\n",
    "    - 子类的定义的成员与父类相同时，则优先使用子类的成员\n",
    "    - 子类扩充父类的方法，重新定义，用父类名，父类成员，也可以使用SUPER().父类的成员的格式调用\n",
    "    - 继承变量函数的查找顺序问题\n",
    "        - 优先查找自己的\n",
    "        - 没有查父类\n",
    "        - 构建函数如果没有定义，这自动查找父类构造函数\n",
    "        - 如果本类有定义，这不在继续向上查找\n"
   ]
  },
  {
   "cell_type": "code",
   "execution_count": 16,
   "metadata": {},
   "outputs": [
    {
     "name": "stdout",
     "output_type": "stream",
     "text": [
      "delphi\n",
      "fly\n",
      "2514\n"
     ]
    }
   ],
   "source": [
    "class Person():\n",
    "    name = \"noname\"\n",
    "    age = 18\n",
    "    __score = 0\n",
    "    _petname = \"fly\"\n",
    "    def work(self):\n",
    "        print(\"eating\")\n",
    "class Man(Person):\n",
    "    name = \"delphi\"\n",
    "    id =2514\n",
    "M = Man()        \n",
    "print(M.name)\n",
    "print(M._petname)\n",
    "# print(M.__score)\n",
    "print(M.id)"
   ]
  },
  {
   "cell_type": "code",
   "execution_count": 26,
   "metadata": {},
   "outputs": [
    {
     "name": "stdout",
     "output_type": "stream",
     "text": [
      "eating\n",
      "attention\n"
     ]
    }
   ],
   "source": [
    "class Person():\n",
    "    name = \"noname\"\n",
    "    age = 18\n",
    "    __score = 0\n",
    "    _petname = \"fly\"\n",
    "    def work(self):\n",
    "        print(\"eating\")\n",
    "class Man(Person):\n",
    "    name = \"delphi\"\n",
    "    id =2514\n",
    "    def make(self):\n",
    "        print(\"attention\")\n",
    "    def work(self):\n",
    "#         Person.work(self)\n",
    "        super().work()\n",
    "        self.make()\n",
    "\n",
    "M = Man()\n",
    "M.work()\n"
   ]
  },
  {
   "cell_type": "code",
   "execution_count": 29,
   "metadata": {},
   "outputs": [
    {
     "name": "stdout",
     "output_type": "stream",
     "text": [
      "wangwang\n"
     ]
    }
   ],
   "source": [
    "class Cat():\n",
    "    #__init__就是构造函数\n",
    "    #每次实例化，第一个被调用\n",
    "    #进行初始化\n",
    "    def __init__(self):\n",
    "        print(\"wangwang\")\n",
    "GG  = Cat()"
   ]
  },
  {
   "cell_type": "markdown",
   "metadata": {},
   "source": [
    "- 构造函数\n",
    "    - 是一类特殊的函数，在类进行实例化之前进行调用\n",
    "    - 如果没有定义，自动查找父类的构造函数\n",
    "    - 没有子类没有定义，父类的构造函数带参数，则构建对象的参数应该按照父类的参数构造\n",
    "- super\n",
    "    - super不是关键字，而是一个类\n",
    "    - super的作用是获取MRO（MethodResolutionOreder）列表的第一个类\n",
    "    - super与父类没有直接关系，当时super可以调用父类\n",
    "    - super使用的两个方法，调用父类的构造函数"
   ]
  },
  {
   "cell_type": "code",
   "execution_count": 2,
   "metadata": {},
   "outputs": [],
   "source": [
    "class A():\n",
    "    pass\n",
    "class B(A):\n",
    "    pass"
   ]
  },
  {
   "cell_type": "markdown",
   "metadata": {},
   "source": [
    "- 单继承与多继承的优缺点：\n",
    "    - 单继承\n",
    "        - 优点：传承有序逻辑清晰语法简单隐患少\n",
    "        - 缺点：功能不能无限扩展，只能在当前唯一的继承链中扩展\n",
    "    - 多继承\n",
    "        - 优点：类的扩展方便\n",
    "        - 缺点：类关系混乱\n",
    "    - 菱形继承/钻石继承的问题\n",
    "        - MRO解决多继承的问题\n",
    "            - MRO多个继承中，用于保存继承顺序的一个列表\n",
    "            - python本身采用C3 算法来解决多继承的问题\n",
    "            - MRO列表的计算原则：\n",
    "                - 子类永远继承父类\n",
    "                - 如果出现多个继承，则根据继承语法中括号的书写顺序\n",
    "                - 如果多个继承继承了同一个父类，孙子类只会选择语法括号中的第一个父类的父类"
   ]
  },
  {
   "cell_type": "markdown",
   "metadata": {},
   "source": [
    "- 构成函数\n",
    "    - 在对象进行实例化的时候，系统自动调用的一个函数叫做构造函数，通常此函数用来对实例对象进行初始化。\n",
    "    - 构造函数一定\n"
   ]
  },
  {
   "cell_type": "code",
   "execution_count": 12,
   "metadata": {},
   "outputs": [
    {
     "name": "stdout",
     "output_type": "stream",
     "text": [
      "in inint func\n",
      "B\n"
     ]
    }
   ],
   "source": [
    "class Person():\n",
    "    #对Person进行实例化的时候\n",
    "    #姓名要\n",
    "    #年龄\n",
    "    #构造函数初始化\n",
    "    def __init__(self):\n",
    "        self.name = \"yumi\"\n",
    "        self.age = 18\n",
    "        print(\"in inint func\")\n",
    "#实例化一个人\n",
    "p = Person()\n",
    "\n",
    "class A():\n",
    "    def __init__(self):\n",
    "        print(\"A\")\n",
    "class B(A):\n",
    "    def __init__(self,name):\n",
    "        print(\"B\")\n",
    "class C(B):\n",
    "#     def __init__(self):\n",
    "#         print(\"C\")\n",
    "    pass\n",
    "D = C(\"yumi\")"
   ]
  },
  {
   "cell_type": "code",
   "execution_count": 28,
   "metadata": {},
   "outputs": [
    {
     "name": "stdout",
     "output_type": "stream",
     "text": [
      "B\n",
      "new\n",
      "****************************************************************************************************\n",
      "B\n",
      "new\n"
     ]
    }
   ],
   "source": [
    "class A():\n",
    "    def __init__(self):\n",
    "        print(\"A\")\n",
    "class B(A):\n",
    "    def __init__(self,name):\n",
    "        print(\"B\")\n",
    "class C(B):\n",
    "    def __init__(self,name):\n",
    "        #调用父类函数\n",
    "        B.__init__(self,name)\n",
    "        #增加自己的功能\n",
    "        print(\"new\")\n",
    "D = C(\"yumi\")\n",
    "\n",
    "print(\"*\"*100)\n",
    "\n",
    "class C(B):\n",
    "    def __init__(self,name):\n",
    "        #调用父类函数\n",
    "        super(C,self).__init__(name)\n",
    "        print(\"new\")\n",
    "D = C(\"yumi\")    "
   ]
  },
  {
   "cell_type": "markdown",
   "metadata": {},
   "source": [
    "## 6.3 多态\n",
    "    - 多态就是一个对象在不同情况下有不同的状态出现\n",
    "    - 多态不是语法，是一种设计思想\n",
    "    - 多态性，一种调用方法，不同的执行效果\n",
    "    - 多态：同一事物的多种形态，动物分人类，鸟类，鱼类\n",
    "    \n",
    "- Mixin设计模式\n",
    "    - 多继承语法来现实Mixin\n",
    "    - 必须单一功能\n",
    "    - 职责必须单一\n",
    "    - Mixin不依赖子类实现\n",
    "    - 子类没继承Mixin类，照样能工作\n",
    "   \n",
    "- 优点\n",
    "    - 使用Mixin可以在不对类进行任何修改的情况下，扩充功能\n",
    "    - 可以方便维护不同的功能组件的划分\n",
    "    - 可以根据需要调整类的组合\n",
    "    - 可以避免创建很多新的类，导致类的继承混乱\n",
    "    "
   ]
  },
  {
   "cell_type": "code",
   "execution_count": 48,
   "metadata": {},
   "outputs": [
    {
     "name": "stdout",
     "output_type": "stream",
     "text": [
      "(<class '__main__.Tutor'>, <class '__main__.Teacher'>, <class '__main__.Student'>, <class '__main__.Person'>, <class 'object'>)\n",
      "{}\n",
      "{'__module__': '__main__', '__doc__': None}\n",
      "****************************************************************************************************\n",
      "(<class '__main__.NewTutor'>, <class '__main__.Person'>, <class '__main__.TeacherMixin'>, <class '__main__.StudentMixin'>, <class 'object'>)\n",
      "{}\n",
      "{'__module__': '__main__', '__doc__': None}\n"
     ]
    }
   ],
   "source": [
    "#Mixin案例\n",
    "class Person():\n",
    "    def eat(self):\n",
    "        print(\"eat\")\n",
    "    def drink(self):\n",
    "        print(\"drink\")\n",
    "    def swim(self):\n",
    "        print(\"swim\")\n",
    "class Teacher(Person):\n",
    "    def work(self):\n",
    "        print(\"work\")\n",
    "class Student(Person):\n",
    "    def study(self):\n",
    "        print(\"study\")\n",
    "class Tutor(Teacher,Student):\n",
    "    pass\n",
    "yumi = Tutor()\n",
    "print(Tutor.__mro__)\n",
    "print(yumi.__dict__)\n",
    "print(Tutor.__dict__)\n",
    "print(\"*\"*100)\n",
    "class TeacherMixin():\n",
    "    def work(self):\n",
    "        print(\"work\")\n",
    "class StudentMixin():\n",
    "    def study(self):\n",
    "         print(\"study\")\n",
    "class NewTutor(Person,TeacherMixin,StudentMixin):\n",
    "    pass\n",
    "delphi = NewTutor()\n",
    "print(NewTutor.__mro__)\n",
    "print(delphi.__dict__)\n",
    "print(NewTutor.__dict__)"
   ]
  },
  {
   "cell_type": "markdown",
   "metadata": {},
   "source": [
    "## 6.4类的相关函数\n",
    "- issubclass检测一个类是另一个类的子类\n",
    "- isintance检测对象是否是一个类的实例\n",
    "- hasattr：检测成员\n",
    "- dir：获取对象列表"
   ]
  },
  {
   "cell_type": "code",
   "execution_count": 49,
   "metadata": {},
   "outputs": [
    {
     "name": "stdout",
     "output_type": "stream",
     "text": [
      "Help on built-in function getattr in module builtins:\n",
      "\n",
      "getattr(...)\n",
      "    getattr(object, name[, default]) -> value\n",
      "    \n",
      "    Get a named attribute from an object; getattr(x, 'y') is equivalent to x.y.\n",
      "    When a default argument is given, it is returned when the attribute doesn't\n",
      "    exist; without it, an exception is raised in that case.\n",
      "\n"
     ]
    }
   ],
   "source": [
    "help(getattr)"
   ]
  }
 ],
 "metadata": {
  "kernelspec": {
   "display_name": "Python 3",
   "language": "python",
   "name": "python3"
  },
  "language_info": {
   "codemirror_mode": {
    "name": "ipython",
    "version": 3
   },
   "file_extension": ".py",
   "mimetype": "text/x-python",
   "name": "python",
   "nbconvert_exporter": "python",
   "pygments_lexer": "ipython3",
   "version": "3.7.0"
  }
 },
 "nbformat": 4,
 "nbformat_minor": 2
}
