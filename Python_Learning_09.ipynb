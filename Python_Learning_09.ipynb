{
 "cells": [
  {
   "cell_type": "markdown",
   "metadata": {},
   "source": [
    "# 6.面向对象的三大特征\n",
    "- 封装\n",
    "- 继承\n",
    "- 多态\n",
    "## 6.1 封装\n",
    "- 封装就是对对象的成员进行访问限制\n",
    "    - 公开 public\\\n",
    "    - 受保护的 protected\n",
    "    - 私有的 private\n",
    "    public.protected.pribate都不是关键字\n",
    "- 判断对象位置\n",
    "    - 对象内部\n",
    "    - 对象外部\n",
    "    - 子类中\n",
    "- 私有\n",
    "    - 私有成员时最高级别的封装，只能在当前类或对象中访问\n",
    "    - 在成员前面加两个__\n",
    "    - python的是私有不是真私有，是一种name mangling改变策略\n",
    "    "
   ]
  },
  {
   "cell_type": "code",
   "execution_count": 1,
   "metadata": {},
   "outputs": [
    {
     "name": "stdout",
     "output_type": "stream",
     "text": [
      "{'__module__': '__main__', 'name': 'aaaa', '_Cc__age': 20, '__dict__': <attribute '__dict__' of 'Cc' objects>, '__weakref__': <attribute '__weakref__' of 'Cc' objects>, '__doc__': None}\n",
      "aaaa\n",
      "{'__module__': '__main__', 'name': 'aaaa', '_Cc__age': 20, '__dict__': <attribute '__dict__' of 'Cc' objects>, '__weakref__': <attribute '__weakref__' of 'Cc' objects>, '__doc__': None}\n"
     ]
    }
   ],
   "source": [
    "class Cc():\n",
    "    name = \"aaaa\"\n",
    "    __age =20\n",
    "\n",
    "b = Cc()\n",
    "#name共有变量\n",
    "print(Cc.__dict__)\n",
    "print(b.name)\n",
    "# print(b.__age)\n",
    "print(Cc.__dict__)"
   ]
  },
  {
   "cell_type": "markdown",
   "metadata": {},
   "source": [
    "## 6.2 继承\n",
    "- 继承就是一个类可以送用另一个类的成员属性和成员方法\n",
    "- 作用：减少代码，增强代码复用功能，同时可以设置类与类的直接关系\n",
    "- 继承与被继承的概念：\n",
    "    - 被继承的类叫父类，也叫基类，超类\n",
    "    - 用于继承的类叫之类，也叫派生类\n",
    "    - 继承与被继承一定存在is-A的关系\n",
    "- 继承的语法\n"
   ]
  },
  {
   "cell_type": "code",
   "execution_count": 4,
   "metadata": {},
   "outputs": [
    {
     "name": "stdout",
     "output_type": "stream",
     "text": [
      "noname\n"
     ]
    }
   ],
   "source": [
    "class Person():\n",
    "    name = \"noname\"\n",
    "    age = 0\n",
    "    def work(self):\n",
    "        print(\"eating\")\n",
    "\n",
    "class Man(Person):\n",
    "    pass\n",
    "\n",
    "print(Man.name)"
   ]
  },
  {
   "cell_type": "markdown",
   "metadata": {},
   "source": [
    "- 继承的特征：\n",
    "    - 所有的类都继承只object类\n",
    "    - 子类一旦继承父类，则可以使用父类的除私有外成员外的所有内容\n",
    "    - 子类继承父类是通过引用的关系访问调用的\n",
    "    - 子类可以定义独有的成员属性和方法\n",
    "    - 子类的定义的成员与父类相同时，则优先使用子类的成员\n",
    "    - 子类扩充父类的方法，重新定义，用父类名，父类成员，也可以使用SUPER().父类的成员的格式调用\n",
    "    - 继承变量函数的查找顺序问题\n",
    "        - 优先查找自己的\n",
    "        - 没有查父类\n",
    "        - 构建函数如果没有定义，这自动查找父类构造函数\n",
    "        - 如果本类有定义，这不在继续向上查找\n"
   ]
  },
  {
   "cell_type": "code",
   "execution_count": 16,
   "metadata": {},
   "outputs": [
    {
     "name": "stdout",
     "output_type": "stream",
     "text": [
      "delphi\n",
      "fly\n",
      "2514\n"
     ]
    }
   ],
   "source": [
    "class Person():\n",
    "    name = \"noname\"\n",
    "    age = 18\n",
    "    __score = 0\n",
    "    _petname = \"fly\"\n",
    "    def work(self):\n",
    "        print(\"eating\")\n",
    "class Man(Person):\n",
    "    name = \"delphi\"\n",
    "    id =2514\n",
    "M = Man()        \n",
    "print(M.name)\n",
    "print(M._petname)\n",
    "# print(M.__score)\n",
    "print(M.id)"
   ]
  },
  {
   "cell_type": "code",
   "execution_count": 26,
   "metadata": {},
   "outputs": [
    {
     "name": "stdout",
     "output_type": "stream",
     "text": [
      "eating\n",
      "attention\n"
     ]
    }
   ],
   "source": [
    "class Person():\n",
    "    name = \"noname\"\n",
    "    age = 18\n",
    "    __score = 0\n",
    "    _petname = \"fly\"\n",
    "    def work(self):\n",
    "        print(\"eating\")\n",
    "class Man(Person):\n",
    "    name = \"delphi\"\n",
    "    id =2514\n",
    "    def make(self):\n",
    "        print(\"attention\")\n",
    "    def work(self):\n",
    "#         Person.work(self)\n",
    "        super().work()\n",
    "        self.make()\n",
    "\n",
    "M = Man()\n",
    "M.work()\n"
   ]
  },
  {
   "cell_type": "code",
   "execution_count": 29,
   "metadata": {},
   "outputs": [
    {
     "name": "stdout",
     "output_type": "stream",
     "text": [
      "wangwang\n"
     ]
    }
   ],
   "source": [
    "class Cat():\n",
    "    #__init__就是构造函数\n",
    "    #每次实例化，第一个被调用\n",
    "    #进行初始化\n",
    "    def __init__(self):\n",
    "        print(\"wangwang\")\n",
    "GG  = Cat()"
   ]
  },
  {
   "cell_type": "markdown",
   "metadata": {},
   "source": [
    "- 构造函数\n",
    "    - 是一类特殊的函数，在类进行实例化之前进行调用\n",
    "    - 如果没有定义，自动查找父类的构造函数\n",
    "    - 没有子类没有定义，父类的构造函数带参数，则构建对象的参数应该按照父类的参数构造\n",
    "- super\n",
    "    - super不是关键字，而是一个类\n",
    "    - super的作用是获取MRO（MethodResolutionOreder）列表的第一个类\n",
    "    - super与父类没有直接关系，当时super可以调用父类\n",
    "    - super使用的两个方法，调用父类的构造函数"
   ]
  },
  {
   "cell_type": "code",
   "execution_count": null,
   "metadata": {},
   "outputs": [],
   "source": [
    "class A():\n",
    "    pass\n",
    "class B(A):\n",
    "    pass"
   ]
  }
 ],
 "metadata": {
  "kernelspec": {
   "display_name": "Python 3",
   "language": "python",
   "name": "python3"
  },
  "language_info": {
   "codemirror_mode": {
    "name": "ipython",
    "version": 3
   },
   "file_extension": ".py",
   "mimetype": "text/x-python",
   "name": "python",
   "nbconvert_exporter": "python",
   "pygments_lexer": "ipython3",
   "version": "3.7.0"
  }
 },
 "nbformat": 4,
 "nbformat_minor": 2
}
