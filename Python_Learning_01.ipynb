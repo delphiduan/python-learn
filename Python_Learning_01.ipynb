{
 "cells": [
  {
   "cell_type": "markdown",
   "metadata": {},
   "source": [
    "# python基础\n",
    "## Python概述\n",
    "- 计算机语言概述\n",
    "    - 语言：交流的工具，沟通的媒介\n",
    "    - 计算机语言：人跟计算机沟通的工具，翻译官\n",
    "    - python是计算语言里的一种\n",
    "    - Python编程语言\n",
    "        - 代码：人类的语言，通过代码命令机器，跟机器交流\n",
    "        - Python解释器：就是那个做翻译工作的二狗子同学\n",
    "        - 流程：\n",
    "            - 写代码\n",
    "            - 执行：由翻译官（Python解释器）把命令（code）翻译给机器，同时把机器结果翻译给我们\n",
    "    - Python读音问题\n",
    "    - Python简史\n",
    "        - 1989年，Guido van Rossum 搞科研的，C语言，数据分析，人工智能，非常简单，创建的哲学，简单，明了，好用。不但迭代，升级烦了\n",
    "        - 2008年，python3.0诞生。不兼容，python2.X系列，python3.X系列\n",
    "        - 2014年，宣布2.7支持到2020年\n",
    "        - 2017年，AI元年，Python崛起，运维用shell，用python来替代，数据分析，R语言纯数学工具，人工智能\n",
    "    - Python特点\n",
    "        - 速度问题，Python比java慢20倍，对代码执行速度要求不高，开发速度快\n",
    "        - python跟其他语言的选择问题\n",
    "    - Python的应用领域\n",
    "        - 全能 发明的哲学，不推主打领域，全面发展\n",
    "        - 设计哲学：平衡发展，样样通，简洁明了\n",
    "        \n",
    "            l=list\n",
    "            \n",
    "            for i in range(len(l)) \n",
    "                print(l[i])\n",
    "            - C++/java的写法\n",
    "        \n",
    "        - Python流行的原因\n",
    "            - 持久性？能用多久？\n",
    "        - Python环境问题\n",
    "            - anaconda + pycharm\n",
    "            - python3.6\n",
    "            \n",
    "        - 环境\n",
    "            - 学习环境\n",
    "                -讲义+代码 ：github\n",
    "                -教课书：gitbook\n",
    "             - 工作环境\n",
    "                 - gitbook \n",
    "             - 操作系统\n",
    "                 - windows\n",
    "                 - Linux\n",
    "                 - MacOX\n",
    "             - 软件环境\n",
    "                 - 不是使用Python解析器\n",
    "                 - 使用Anaconda3 + Pycharm代替\n",
    "     - Python的执行方式\n",
    "         - 本质上python是一堆命令的集合\n",
    "         - 执行过程是逐行执行，遇到问题即刻停止\n",
    "         - 打印 Hello World\n",
    "                 \n",
    "            "
   ]
  },
  {
   "cell_type": "code",
   "execution_count": 8,
   "metadata": {},
   "outputs": [
    {
     "ename": "SyntaxError",
     "evalue": "invalid syntax (<ipython-input-8-46e2a91f1076>, line 1)",
     "output_type": "error",
     "traceback": [
      "\u001b[1;36m  File \u001b[1;32m\"<ipython-input-8-46e2a91f1076>\"\u001b[1;36m, line \u001b[1;32m1\u001b[0m\n\u001b[1;33m    print (\"Hello world\"123)\u001b[0m\n\u001b[1;37m                          ^\u001b[0m\n\u001b[1;31mSyntaxError\u001b[0m\u001b[1;31m:\u001b[0m invalid syntax\n"
     ]
    }
   ],
   "source": [
    "print (\"Hello world\"123)"
   ]
  },
  {
   "cell_type": "markdown",
   "metadata": {},
   "source": [
    "- Syntax 语法   不合法的语法 ，语法错误"
   ]
  }
 ],
 "metadata": {
  "kernelspec": {
   "display_name": "Python 3",
   "language": "python",
   "name": "python3"
  },
  "language_info": {
   "codemirror_mode": {
    "name": "ipython",
    "version": 3
   },
   "file_extension": ".py",
   "mimetype": "text/x-python",
   "name": "python",
   "nbconvert_exporter": "python",
   "pygments_lexer": "ipython3",
   "version": "3.6.4"
  }
 },
 "nbformat": 4,
 "nbformat_minor": 2
}
