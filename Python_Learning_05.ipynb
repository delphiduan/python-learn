{
 "cells": [
  {
   "cell_type": "markdown",
   "metadata": {},
   "source": [
    "# while循环\n",
    "- 一个语句\n",
    "- 表示当某个语句成立时，就循环\n",
    "- 不知道循环的次数，但能确认循环成立的条件时候用while\n",
    "- while语法\n",
    "\n",
    "    while条件成立；\n",
    "        语句块\n",
    "    while 条件语句1：\n",
    "        语句块1\n",
    "    else：\n",
    "        语句块2"
   ]
  },
  {
   "cell_type": "code",
   "execution_count": 3,
   "metadata": {},
   "outputs": [
    {
     "name": "stdout",
     "output_type": "stream",
     "text": [
      "第1年，拿106700.0钱\n",
      "第2年，拿113848.9钱\n",
      "第3年，拿121476.77629999998钱\n",
      "第4年，拿129615.72031209998钱\n",
      "第5年，拿138299.97357301068钱\n",
      "第6年，拿147566.07180240238钱\n",
      "第7年，拿157452.99861316333钱\n",
      "第8年，拿168002.34952024528钱\n",
      "第9年，拿179258.5069381017钱\n",
      "第10年，拿191268.8269029545钱\n",
      "第11年，拿204083.83830545243钱\n"
     ]
    }
   ],
   "source": [
    "Principal = 100000\n",
    "year = 0\n",
    "while Principal < 200000:\n",
    "    Principal=Principal*(1+ 0.067)\n",
    "    year += 1\n",
    "    print(\"第{0}年，拿{1}钱\".format(year,Principal))"
   ]
  },
  {
   "cell_type": "code",
   "execution_count": 5,
   "metadata": {},
   "outputs": [
    {
     "name": "stdout",
     "output_type": "stream",
     "text": [
      "第1年，拿106700.0钱\n",
      "第2年，拿113848.9钱\n",
      "第3年，拿121476.77629999998钱\n",
      "第4年，拿129615.72031209998钱\n",
      "第5年，拿138299.97357301068钱\n",
      "第6年，拿147566.07180240238钱\n",
      "第7年，拿157452.99861316333钱\n",
      "第8年，拿168002.34952024528钱\n",
      "第9年，拿179258.5069381017钱\n",
      "第10年，拿191268.8269029545钱\n",
      "第11年，拿204083.83830545243钱\n",
      "终于翻倍了\n"
     ]
    }
   ],
   "source": [
    "Principal = 100000\n",
    "year = 0\n",
    "while Principal < 200000:\n",
    "    Principal=Principal*(1+ 0.067)\n",
    "    year += 1\n",
    "    print(\"第{0}年，拿{1}钱\".format(year,Principal))\n",
    "else:\n",
    "    print(\"终于翻倍了\")"
   ]
  },
  {
   "cell_type": "markdown",
   "metadata": {},
   "source": [
    "# 函数\n",
    "- 代码的一种组织形式\n",
    "- 一个函数一般完成一项特定的功能\n",
    "- 函数的使用\n",
    "    - 函数需要先定义\n",
    "    - 使用函数，俗称调用"
   ]
  },
  {
   "cell_type": "code",
   "execution_count": 12,
   "metadata": {},
   "outputs": [
    {
     "name": "stdout",
     "output_type": "stream",
     "text": [
      "go\n",
      "test\n"
     ]
    }
   ],
   "source": [
    "#定义一个函数\n",
    "#只是定义，不会执行\n",
    "#1. def关键字，后跟一个空格\n",
    "#2. 函数名，自己定义，约定俗成，大驼峰只给类用；\n",
    "#3. 后面的括号和冒号不能省略，括号内可用参数\n",
    "#4. 函数内所有代码缩进\n",
    "def func():\n",
    "    print(\"go\")\n",
    "    print(\"test\")\n",
    "func()"
   ]
  },
  {
   "cell_type": "markdown",
   "metadata": {},
   "source": [
    "## 函数的参数和返回值\n",
    "- 参数：负责给函数传递必要的信息\n",
    "    - 形式参数，只是一个占位符\n",
    "    - 实际参数，在调用的时候输入值\n",
    "- 返回值：函数的执行结果\n"
   ]
  },
  {
   "cell_type": "code",
   "execution_count": 15,
   "metadata": {},
   "outputs": [
    {
     "name": "stdout",
     "output_type": "stream",
     "text": [
      "delphi,你好\n",
      "hello\n"
     ]
    }
   ],
   "source": [
    "def hello(preson):#参数person只是一个符号，代表调用的时候某个数据\n",
    "    print(\"{0},你好\".format(preson))\n",
    "    print(\"hello\")\n",
    "p= \"delphi\"\n",
    "hello(p)"
   ]
  },
  {
   "cell_type": "code",
   "execution_count": 37,
   "metadata": {},
   "outputs": [
    {
     "name": "stdout",
     "output_type": "stream",
     "text": [
      "delphi,你好\n"
     ]
    }
   ],
   "source": [
    "#return语句,return 完了就结束\n",
    "def hello(preson):\n",
    "    return(\"{0},你好\".format(preson))\n",
    "    print(\"你好呀\")#不执行\n",
    "p= \"delphi\"\n",
    "rst=hello(p)\n",
    "print(rst)"
   ]
  },
  {
   "cell_type": "code",
   "execution_count": 39,
   "metadata": {},
   "outputs": [
    {
     "name": "stdout",
     "output_type": "stream",
     "text": [
      "Help on built-in function print in module builtins:\n",
      "\n",
      "print(...)\n",
      "    print(value, ..., sep=' ', end='\\n', file=sys.stdout, flush=False)\n",
      "    \n",
      "    Prints the values to a stream, or to sys.stdout by default.\n",
      "    Optional keyword arguments:\n",
      "    file:  a file-like object (stream); defaults to the current sys.stdout.\n",
      "    sep:   string inserted between values, default a space.\n",
      "    end:   string appended after the last value, default a newline.\n",
      "    flush: whether to forcibly flush the stream.\n",
      "\n"
     ]
    }
   ],
   "source": [
    "#查找函数帮助方法\n",
    "help(print)"
   ]
  },
  {
   "cell_type": "code",
   "execution_count": 2,
   "metadata": {},
   "outputs": [
    {
     "name": "stdout",
     "output_type": "stream",
     "text": [
      "1 - - - - \n",
      "2 4 - - - - \n",
      "3 6 9 - - - - \n",
      "4 8 12 16 - - - - \n",
      "5 10 15 20 25 - - - - \n",
      "6 12 18 24 30 36 - - - - \n",
      "7 14 21 28 35 42 49 - - - - \n",
      "8 16 24 32 40 48 56 64 - - - - \n",
      "9 18 27 36 45 54 63 72 81 - - - - \n"
     ]
    }
   ],
   "source": [
    "#九九乘法表\n",
    "\n",
    "for row in range(1,10):\n",
    "    for col in range(1,row+1):\n",
    "        print(row * col,end=\" \")\n",
    "    print(\"- - - - \")\n"
   ]
  },
  {
   "cell_type": "code",
   "execution_count": 22,
   "metadata": {},
   "outputs": [
    {
     "name": "stdout",
     "output_type": "stream",
     "text": [
      "9 18 27 36 45 54 63 72 81 \n",
      "8 16 24 32 40 48 56 64 \n",
      "7 14 21 28 35 42 49 \n",
      "6 12 18 24 30 36 \n",
      "5 10 15 20 25 \n",
      "4 8 12 16 \n",
      "3 6 9 \n",
      "2 4 \n",
      "1 \n",
      "\n",
      "1 \n",
      "2 4 \n",
      "3 6 9 \n",
      "4 8 12 16 \n",
      "5 10 15 20 25 \n",
      "6 12 18 24 30 36 \n",
      "7 14 21 28 35 42 49 \n",
      "8 16 24 32 40 48 56 64 \n",
      "9 18 27 36 45 54 63 72 81 \n"
     ]
    }
   ],
   "source": [
    "\n",
    "def printline(row):\n",
    "    for col in range(1,11-row):\n",
    "        print((10 - row) * col,end=\" \")\n",
    "    print() \n",
    "for row in range(1,10):\n",
    "    printline(row)\n",
    "print()     \n",
    "def printline(row):\n",
    "    for col in range(1,row+1):\n",
    "        print(row * col,end=\" \")\n",
    "    print() \n",
    "for row in range(1,10):\n",
    "    printline(row)"
   ]
  },
  {
   "cell_type": "code",
   "execution_count": 54,
   "metadata": {},
   "outputs": [
    {
     "name": "stdout",
     "output_type": "stream",
     "text": [
      "                        1 \n",
      "                     2 4 \n",
      "                  3 6 9 \n",
      "               4 8 12 16 \n",
      "            5 10 15 20 25 \n",
      "         6 12 18 24 30 36 \n",
      "      7 14 21 28 35 42 49 \n",
      "   8 16 24 32 40 48 56 64 \n",
      "9 18 27 36 45 54 63 72 81 \n"
     ]
    }
   ],
   "source": [
    "for row in range(1,10):\n",
    "    for i in range(1,10):\n",
    "        if (10-i) > row :\n",
    "            print(\"  \",end=\" \")            \n",
    "    for col in range(1,row+1):\n",
    "        print(row * col,end=\" \")         \n",
    "    print(\"\")\n"
   ]
  },
  {
   "cell_type": "markdown",
   "metadata": {},
   "source": [
    "#### 零基础入门学python（小甲鱼）-腾讯公开免费课"
   ]
  },
  {
   "cell_type": "markdown",
   "metadata": {},
   "source": [
    "## 参数详解\n",
    "- 参数的分裂\n",
    "    - 普通参数\n",
    "    - 默认参数\n",
    "    - 关键字参数\n",
    "    - 收集参数\n",
    "- 普通参数\n",
    "    - 定义的时候直接定义变量名\n",
    "    - 调用的时候直接把变量或者值直接放入指定的位置\n",
    "    - 调用的时候直接把变量或者指定的位置\n",
    "    \n",
    "     def 函数（参数1，参数2）\n",
    "         函数体\n",
    "     -调用\n",
    "     函数名（value1，value2……）\n",
    "     \n",
    "     -调用的时候，具体参考的是位置，按位置赋值\n",
    "\n",
    "- 默认参数\n",
    "    - 形参代用默认值\n",
    "    - 调用的时候，如果没有对乡音的形参赋值，则使用默认值\n",
    "    \n",
    "    def func_name(p1=v1,p2,v2^)\n",
    "        func_block\n",
    "    - 调用\n",
    "    func_name（）\n",
    "    -\n",
    "    value1=100\n",
    "    value2=200\n",
    "    func_name(value1,value2) "
   ]
  },
  {
   "cell_type": "code",
   "execution_count": 194,
   "metadata": {},
   "outputs": [
    {
     "name": "stdout",
     "output_type": "stream",
     "text": [
      "delphi is 28,he is a good student.\n",
      "evengel is 22,She is a good student.\n"
     ]
    }
   ],
   "source": [
    "def reg(name,age,gender=\"male\"):\n",
    "    if gender == \"male\":\n",
    "        print(\"{0} is {1},he is a good student.\".format(name,age))\n",
    "    else:\n",
    "        print(\"{0} is {1},She is a good student.\".format(name,age))\n",
    "reg(\"delphi\",28)\n",
    "reg(\"evengel\",22,\"ww\")"
   ]
  },
  {
   "cell_type": "markdown",
   "metadata": {},
   "source": [
    "## 关键字参数\n",
    "- 语法\n",
    "    def func(p1=v1,p2=v2……)\n",
    "    - 调用参数\n",
    "    func(p1=value1,p2=value2)\n",
    "- 比较麻烦，也有好处\n",
    "    - 不容易混淆\n",
    "    - 可以不考虑位置\n",
    "    \n",
    "    "
   ]
  },
  {
   "cell_type": "code",
   "execution_count": 76,
   "metadata": {},
   "outputs": [
    {
     "name": "stdout",
     "output_type": "stream",
     "text": [
      " my name's delphi,I'm 18,my home is sanyang\n",
      " my name's delphi,I'm 18,my home is sanyang\n",
      " my name's sanyang,I'm 18,my home is delphi\n",
      " my name's delphi,I'm 18,my home is sanyang\n",
      " my name's yumi,I'm 25,my home is shanghai\n",
      "Help on built-in function print in module builtins:\n",
      "\n",
      "print(...)\n",
      "    print(value, ..., sep=' ', end='\\n', file=sys.stdout, flush=False)\n",
      "    \n",
      "    Prints the values to a stream, or to sys.stdout by default.\n",
      "    Optional keyword arguments:\n",
      "    file:  a file-like object (stream); defaults to the current sys.stdout.\n",
      "    sep:   string inserted between values, default a space.\n",
      "    end:   string appended after the last value, default a newline.\n",
      "    flush: whether to forcibly flush the stream.\n",
      "\n"
     ]
    }
   ],
   "source": [
    "def stu(name,age,addr):\n",
    "    print(\" my name's {0},I'm {1},my home is {2}\".format(name,age,addr))\n",
    "stu(\"delphi\",18,\"sanyang\")\n",
    "n = \"delphi\"# =号空格\n",
    "a = 18\n",
    "addr = \"sanyang\"\n",
    "stu(n,a,addr)\n",
    "stu(name=addr,age=a,addr=n)# =号紧连着\n",
    "stu(age=a,name=n,addr=addr)\n",
    "def stu_s(name=\"yumi\",age=\"25\",addr=\"shanghai\"):\n",
    "    print(\" my name's {0},I'm {1},my home is {2}\".format(name,age,addr))\n",
    "stu_s()\n",
    "help(print)"
   ]
  },
  {
   "cell_type": "code",
   "execution_count": 91,
   "metadata": {},
   "outputs": [
    {
     "name": "stdout",
     "output_type": "stream",
     "text": [
      "a>><<b>><<c\n"
     ]
    }
   ],
   "source": [
    "print(\"a\",\"b\",\"c\",sep=\">><<\")\n",
    "# f = open('abx.txt','w')\n",
    "# print(\"a\",\"b\",\"c\",file=f,flush=True)"
   ]
  },
  {
   "cell_type": "markdown",
   "metadata": {},
   "source": [
    "## 收集参数\n",
    "- 把没有为位置，不能传递和定义参数，放于一个特定的数据结构中\n",
    "    \n",
    "        def func(*args):\n",
    "        func_boby\n",
    "        \n",
    "        #调用\n",
    "        func(p1, p2, p3, p3....)\n",
    "- 参数名约定俗成用args\n",
    "- 前面加*\n",
    "- 收集参数和其他参数共存\n",
    "        "
   ]
  },
  {
   "cell_type": "code",
   "execution_count": 101,
   "metadata": {},
   "outputs": [
    {
     "name": "stdout",
     "output_type": "stream",
     "text": [
      "<class 'tuple'>\n",
      "我们来说两句\n",
      "qwkqkw\n",
      "wewew\n",
      "18\n",
      "我们几位\n",
      "20\n",
      "\n",
      "<class 'tuple'>\n",
      "我们来说两句\n",
      "25\n",
      "\n",
      "<class 'tuple'>\n",
      "我们来说两句\n"
     ]
    }
   ],
   "source": [
    "#args可以比作list\n",
    "def stu_func(*args):\n",
    "    pass\n",
    "    print(type(args))\n",
    "    print(\"我们来说两句\")\n",
    "    for item in args:\n",
    "        print(item)\n",
    "stu_func(\"qwkqkw\",\"wewew\",18,\"我们几位\",20)\n",
    "print()\n",
    "stu_func(25)\n",
    "print()\n",
    "stu_func()"
   ]
  },
  {
   "cell_type": "markdown",
   "metadata": {},
   "source": [
    "### 收集参数之关键字收集参数\n",
    "- 把关键字参数按字典格式\n",
    "- 语法\n",
    "\n",
    "           def func(**kwargs):\n",
    "               func_boby\n",
    "           #调用\n",
    "           func(p1=v1,p2=v2,p3=v3,....)\n",
    "- kwargs 约定俗成\n",
    "- 调用把多余的关键字放入kwargs\n",
    "- 访问kwargs需用字典的格式"
   ]
  },
  {
   "cell_type": "code",
   "execution_count": 113,
   "metadata": {},
   "outputs": [
    {
     "name": "stdout",
     "output_type": "stream",
     "text": [
      "自我介绍：\n",
      "<class 'dict'>\n",
      "name - - - delphi\n",
      "age - - - 18\n",
      "addr - - - shanghai\n",
      "work - - - saler\n",
      "****************************************************************************************************\n",
      "自我介绍：\n",
      "<class 'dict'>\n",
      "name - - - mago\n",
      "****************************************************************************************************\n",
      "自我介绍：\n",
      "<class 'dict'>\n"
     ]
    }
   ],
   "source": [
    "def stu(**kwargs):\n",
    "    print(\"自我介绍：\")\n",
    "    print(type(kwargs))\n",
    "    for i,k in kwargs.items():\n",
    "        print(i,\"- - -\",k)\n",
    "stu (name=\"delphi\",age=18,addr=\"shanghai\",work=\"saler\")\n",
    "print(\"*\" * 100)\n",
    "stu(name=\"mago\")\n",
    "print(\"*\" * 100)\n",
    "stu()"
   ]
  },
  {
   "cell_type": "markdown",
   "metadata": {},
   "source": [
    "### 收集参数混合调用的顺序问题\n",
    "- 收集参数，关键字参数，普通参数可以混合使用\n",
    "- 使用规则就是，普通参数与关键字参数优先\n",
    "- 定义的时候一般找普通参数，关键字参数，收集参数的tuple，收集参数的dict"
   ]
  },
  {
   "cell_type": "code",
   "execution_count": 192,
   "metadata": {},
   "outputs": [
    {
     "name": "stdout",
     "output_type": "stream",
     "text": [
      "hello\n",
      "我叫delphi,我今年18岁了\n",
      "我没有爱好\n",
      "讲话完毕\n",
      "****************************************************************************************************\n",
      "hello\n",
      "我叫mago,我今年29岁了\n",
      "我的爱好是睡觉\n",
      "我有个朋友叫yumi\n",
      "我有个朋友叫delphi\n",
      "yumi 住在 shanghai\n",
      "delphi 住在 beijing\n",
      "讲话完毕\n",
      "****************************************************************************************************\n"
     ]
    }
   ],
   "source": [
    "def stu(name,age,hobby=\"没有\",*args,str=\"讲话完毕\",**kwargs):\n",
    "    print(\"hello\")\n",
    "    print(\"我叫{0},我今年{1}岁了\".format(name,age))\n",
    "    if hobby == \"没有\":\n",
    "        print(\"我没有爱好\")\n",
    "    else:\n",
    "        print(\"我的爱好是{0}\".format(hobby))\n",
    "    for i in args:\n",
    "        print(\"我有个朋友叫{0}\".format(i))\n",
    "    for k,v in kwargs.items(): \n",
    "        print(k,\"住在\",v)\n",
    "    print(str)\n",
    "    print(\"*\" * 100)\n",
    "    \n",
    "stu(\"delphi\",age=18)\n",
    "\n",
    "n = \"mago\"\n",
    "a = 29\n",
    "stu(n,a,\"睡觉\",\"yumi\",\"delphi\",yumi=\"shanghai\",delphi=\"beijing\")\n"
   ]
  },
  {
   "cell_type": "markdown",
   "metadata": {},
   "source": [
    "## 收集参数的解包问题\n",
    "- 把参数放入list或者字典中，直接把list/dict的值放入收集参数中\n",
    "- 语法\n",
    "    - lis解包加*\n",
    "    - dict解包**"
   ]
  },
  {
   "cell_type": "code",
   "execution_count": 229,
   "metadata": {},
   "outputs": [
    {
     "name": "stdout",
     "output_type": "stream",
     "text": [
      "开始解包\n",
      "循环第1次\n",
      "<class 'list'>\n",
      "['delphi', 2, 29, 'yumi']\n",
      "****************************************************************************************************\n",
      "开始解包\n",
      "循环第1次\n",
      "<class 'str'>\n",
      "delphi\n",
      "循环第2次\n",
      "<class 'int'>\n",
      "2\n",
      "循环第3次\n",
      "<class 'int'>\n",
      "29\n",
      "循环第4次\n",
      "<class 'str'>\n",
      "yumi\n",
      "****************************************************************************************************\n",
      "a 1\n",
      "b 3\n",
      "****************************************************************************************************\n"
     ]
    }
   ],
   "source": [
    "def stu(*args):\n",
    "    print(\"开始解包\")\n",
    "    n = 1\n",
    "    for i in args:\n",
    "        print(\"循环第{0}次\".format(n))\n",
    "        print(type(i))\n",
    "        n += 1\n",
    "        print(i)\n",
    "    print(\"*\" * 100)\n",
    "l = [\"delphi\",2,29,\"yumi\"]\n",
    "stu(l)\n",
    "#args 表示字典内的一个list类型的元素，args=（[\"delphi\",2,29,\"yumi\"],）\n",
    "#此时需要价格解包符号*\n",
    "stu(*l)\n",
    "def func(**kwargs):\n",
    "    for k,v in kwargs.items():\n",
    "        print(k,v)\n",
    "    print(\"*\" * 100)\n",
    "l = {'a': 1, 'b': 2, 'b': '3'}\n",
    "func(**l)"
   ]
  },
  {
   "cell_type": "markdown",
   "metadata": {},
   "source": [
    "# 返回值\n",
    "- 函数和过程的区别\n",
    "    - 有无返回值\n",
    "- 需要return显示返回内容\n",
    "- 如果没有返回则默认返回None"
   ]
  },
  {
   "cell_type": "code",
   "execution_count": 235,
   "metadata": {},
   "outputs": [
    {
     "name": "stdout",
     "output_type": "stream",
     "text": [
      "有\n",
      "1\n",
      "没有\n",
      "None\n"
     ]
    }
   ],
   "source": [
    "def func():\n",
    "    print(\"有\")\n",
    "    return 1\n",
    "def func1():\n",
    "    print(\"没有\")\n",
    "    return None\n",
    "\n",
    "\n",
    "f1 = func()\n",
    "print(f1)\n",
    "f2 = func1()\n",
    "print(f2)"
   ]
  },
  {
   "cell_type": "markdown",
   "metadata": {},
   "source": [
    "# 函数文档\n",
    "- 函数文档的作用\n",
    "- 文档的写法：\n",
    "    - 在函数内部开始第一行使用三个单引号字符定义符\n",
    "    - 一般具有特点的格式\n",
    "- 查看文档\n",
    "    - helph（func）\n",
    "    - 使用__doc__\n",
    "    \n",
    "    `'''\n",
    "    txt\n",
    "    :param name: \n",
    "    :param age: \n",
    "    :param args: \n",
    "    :return: \n",
    "    '''`"
   ]
  },
  {
   "cell_type": "code",
   "execution_count": null,
   "metadata": {},
   "outputs": [],
   "source": []
  },
  {
   "cell_type": "code",
   "execution_count": 241,
   "metadata": {},
   "outputs": [],
   "source": [
    "def stu(name,age,*args):\n",
    "    '''\n",
    "    this is a\n",
    "    it tell us\n",
    "    you can\n",
    "    '''\n",
    "    print(\"this is func stu\")\n"
   ]
  },
  {
   "cell_type": "code",
   "execution_count": 240,
   "metadata": {},
   "outputs": [
    {
     "name": "stdout",
     "output_type": "stream",
     "text": [
      "Help on function stu in module __main__:\n",
      "\n",
      "stu(name, age, *args)\n",
      "    this is a\n",
      "    it tell us\n",
      "    you can\n",
      "\n"
     ]
    },
    {
     "data": {
      "text/plain": [
       "'\\n    this is a\\n    it tell us\\n    you can\\n    '"
      ]
     },
     "execution_count": 240,
     "metadata": {},
     "output_type": "execute_result"
    }
   ],
   "source": [
    "help(stu)\n",
    "stu.__doc__"
   ]
  }
 ],
 "metadata": {
  "kernelspec": {
   "display_name": "Python 3",
   "language": "python",
   "name": "python3"
  },
  "language_info": {
   "codemirror_mode": {
    "name": "ipython",
    "version": 3
   },
   "file_extension": ".py",
   "mimetype": "text/x-python",
   "name": "python",
   "nbconvert_exporter": "python",
   "pygments_lexer": "ipython3",
   "version": "3.7.0"
  }
 },
 "nbformat": 4,
 "nbformat_minor": 2
}
