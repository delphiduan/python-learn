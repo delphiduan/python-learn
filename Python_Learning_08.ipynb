{
 "cells": [
  {
   "cell_type": "markdown",
   "metadata": {},
   "source": [
    "# OO python 面向对象\n",
    "\n",
    "- 面向对象编程\n",
    "    - 基础\n",
    "    - 共有私有\n",
    "    - 继承\n",
    "    - 组合， minxi\n",
    "- 魔法函数\n",
    "    - 魔法函数的概述\n",
    "    - 构造类魔法函数\n",
    "    - 预算类魔法函数\n",
    "## 1.面向对象的概述 （ObjectOriented，OO）\n",
    "- OOP思想\n",
    "    "
   ]
  },
  {
   "cell_type": "code",
   "execution_count": null,
   "metadata": {},
   "outputs": [],
   "source": []
  }
 ],
 "metadata": {
  "kernelspec": {
   "display_name": "Python 3",
   "language": "python",
   "name": "python3"
  },
  "language_info": {
   "codemirror_mode": {
    "name": "ipython",
    "version": 3
   },
   "file_extension": ".py",
   "mimetype": "text/x-python",
   "name": "python",
   "nbconvert_exporter": "python",
   "pygments_lexer": "ipython3",
   "version": "3.7.0"
  }
 },
 "nbformat": 4,
 "nbformat_minor": 2
}
