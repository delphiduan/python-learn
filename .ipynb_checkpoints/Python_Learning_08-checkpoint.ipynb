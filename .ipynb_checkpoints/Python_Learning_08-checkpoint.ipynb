{
 "cells": [
  {
   "cell_type": "markdown",
   "metadata": {},
   "source": [
    "# OO python 面向对象\n",
    "\n",
    "- 面向对象编程\n",
    "    - 基础\n",
    "    - 共有私有\n",
    "    - 继承\n",
    "    - 组合， Minxi\n",
    "- 魔法函数\n",
    "    - 魔法函数的概述\n",
    "    - 构造类魔法函数\n",
    "    - 运算类魔法函数\n",
    "## 1.面向对象的概述 （ObjectOriented，OO）\n",
    "- OOP思想\n",
    "- 完成事物首先想到是由模型构成的\n",
    "- 名词的概念\n",
    "    - OO：面向对象\n",
    "    - OOA：面对对象的分析\n",
    "    - OOD：面向对象的设计\n",
    "    - OOI：xxx的实现\n",
    "    - OOP：xxx的编程\n",
    "    - OOA > OOD > OOI 面向对象的实现过程\n",
    "## 2.类和对象的概念\n",
    "- 类： 抽象名词，代表一个类集合，有共性的事物\n",
    "- 对象： 具体的的事物，单个个体\n",
    "- 类 vS 对象\n",
    "    - 类是抽象的，代表一大类事物\n",
    "    - 对象是具体的额，代表一个类的单个个体\n",
    "- 类的内容：\n",
    "    - 表明事物的特征，叫做属性（变量）\n",
    "    - 表明事物的动作，称为成员的方法（函数）\n",
    "## 3.类的基本实现\n",
    "- 遵守变量的命名的规范\n",
    "- 大驼峰（有一个或者多个单词构成首字母大写，单词都相连）\n",
    "- 尽量跟系统命名相似的命名避开\n",
    "- 声明一个类：\n",
    "    - 必须用赢class关键字\n",
    "    - 类由属性和方法构成，其他不允许\n",
    "    - 成员属性定义可以直接用变量赋值，如果没有值，可以用None"
   ]
  },
  {
   "cell_type": "code",
   "execution_count": 17,
   "metadata": {},
   "outputs": [
    {
     "name": "stdout",
     "output_type": "stream",
     "text": [
      "18\n",
      "None\n",
      "I 在做作业\n"
     ]
    }
   ],
   "source": [
    "'''\n",
    "定义一个学生类\n",
    "'''\n",
    "#定义一个空类\n",
    "class Student():\n",
    "    #pass 跳过\n",
    "    pass\n",
    "yumi = Student()\n",
    "# print(yumi)\n",
    "class GoodStudent():\n",
    "    name = None\n",
    "    age = 18\n",
    "    course = \"python\"\n",
    "    def dohomework(self):\n",
    "        print(\"I 在做作业\")\n",
    "        return None\n",
    "\n",
    "yumi = GoodStudent()\n",
    "print(yumi.age)\n",
    "print(yumi.name)\n",
    "yumi.dohomework()"
   ]
  },
  {
   "cell_type": "markdown",
   "metadata": {},
   "source": [
    "### 3.1 类的实例化\n",
    "    变量 = 类名（）#实例化一个对象\n",
    "- 访问对象成员\n",
    "        \n",
    "      obj.成员属性名称\n",
    "      obj.成员方法\n",
    "- 对象所有成员检查\n",
    "    \n",
    "      obj.__dict__  \n",
    "- 类的多有成员检测\n",
    "\n",
    "      class_name.__dict__"
   ]
  },
  {
   "cell_type": "code",
   "execution_count": 15,
   "metadata": {},
   "outputs": [
    {
     "data": {
      "text/plain": [
       "{}"
      ]
     },
     "execution_count": 15,
     "metadata": {},
     "output_type": "execute_result"
    }
   ],
   "source": [
    "yumi.__dict__\n",
    "# GoodStudent.__dict__"
   ]
  },
  {
   "cell_type": "code",
   "execution_count": 18,
   "metadata": {},
   "outputs": [
    {
     "data": {
      "text/plain": [
       "mappingproxy({'__module__': '__main__',\n",
       "              'name': 'yumi',\n",
       "              'age': 25,\n",
       "              '__dict__': <attribute '__dict__' of 'A' objects>,\n",
       "              '__weakref__': <attribute '__weakref__' of 'A' objects>,\n",
       "              '__doc__': None})"
      ]
     },
     "execution_count": 18,
     "metadata": {},
     "output_type": "execute_result"
    }
   ],
   "source": [
    "class A():\n",
    "    name = \"yumi\"\n",
    "    age = 25\n",
    "A.__dict__"
   ]
  },
  {
   "cell_type": "markdown",
   "metadata": {},
   "source": [
    "## 4.类和对象的成员分析\n",
    "- 类和对象可以存储对象，可以归类所有，也可以归对象所有\n",
    "- 类存储成员时使用的是与类关联的一个对象\n",
    "- 独享存储成员是存储在当前对象中\n",
    "- 对象访问一个成员，如果对象中没有该成员，访问类的同名类的成员，如果对象中有成员，则访问的是对象的中的成员（不一样的赋值）\n",
    "- 创建对象的时候，类中的成员不会放入对象中，而得到一个空对成员\n",
    "- 对对象中成员赋值或者添加成员时，成员保存在对象中，而不会修改类成员\n",
    "\n"
   ]
  },
  {
   "cell_type": "code",
   "execution_count": 21,
   "metadata": {},
   "outputs": [
    {
     "name": "stdout",
     "output_type": "stream",
     "text": [
      "140479857546968\n",
      "140479857546968\n"
     ]
    }
   ],
   "source": [
    "class A():\n",
    "    name = \"yumi\"\n",
    "    age = \"25\"\n",
    "a = A()\n",
    "print(id(a))\n",
    "a.name = \"yumi\"\n",
    "print(id(a))\n"
   ]
  },
  {
   "cell_type": "markdown",
   "metadata": {},
   "source": [
    "## 5.关于self\n",
    "- self在对象的方法中表示当前对象本身，如果通过对象调用该方法，那么该对象会自动传入当前方法的第一个参数中\n",
    "- self不是关键字，只是接受对象的普通参数\n",
    "- 方法使用了self，为非绑定类的方法，可以通过对象访问，没有self的时绑定对类访问的\n",
    "- 使用类访问绑定类的方法时，如果类方法中需要访问当前类的成员，可以用__class__来访问\n"
   ]
  },
  {
   "cell_type": "code",
   "execution_count": 19,
   "metadata": {},
   "outputs": [
    {
     "name": "stdout",
     "output_type": "stream",
     "text": [
      "my name is delphi\n",
      "my age is 29\n",
      "my name is delphi\n",
      "my age is 29\n"
     ]
    }
   ],
   "source": [
    "class StudentVol():\n",
    "    name = \"yumi\"\n",
    "    age = 25\n",
    "    def say(self):\n",
    "        self.name = \"delphi\"\n",
    "        self.age = 29\n",
    "        print(\"my name is {0}\".format(self.name))\n",
    "        print(\"my age is {0}\".format(self.age))\n",
    "    def sayAgain(s):\n",
    "        print(\"my name is {0}\".format(s.name))\n",
    "        print(\"my age is {0}\".format(s.age))\n",
    "        return None\n",
    "a = StudentVol() \n",
    "a.say()\n",
    "a.sayAgain()"
   ]
  },
  {
   "cell_type": "code",
   "execution_count": 30,
   "metadata": {},
   "outputs": [
    {
     "name": "stdout",
     "output_type": "stream",
     "text": [
      "delphi\n",
      "36\n",
      "delphi\n",
      "36\n",
      "yumi\n",
      "18\n",
      "aaaa\n",
      "20\n"
     ]
    }
   ],
   "source": [
    "class A():\n",
    "    name = \"yumi\"\n",
    "    age = 18\n",
    "    \n",
    "    def __init__(self):\n",
    "        self.name = \"delphi\"\n",
    "        self.age = 36\n",
    "    def say(self):\n",
    "        print(self.name)\n",
    "        print(self.age)\n",
    "class B():\n",
    "    name = \"aaaa\"\n",
    "    age =20\n",
    "\n",
    "        \n",
    "a = A()\n",
    "a.say()\n",
    "\n",
    "A.say(a)\n",
    "A.say(A)\n",
    "A.say(B)\n",
    "#鸭子模型，只有有呱呱叫，有翅膀，不游泳的就是鸭子"
   ]
  }
 ],
 "metadata": {
  "kernelspec": {
   "display_name": "Python 3",
   "language": "python",
   "name": "python3"
  },
  "language_info": {
   "codemirror_mode": {
    "name": "ipython",
    "version": 3
   },
   "file_extension": ".py",
   "mimetype": "text/x-python",
   "name": "python",
   "nbconvert_exporter": "python",
   "pygments_lexer": "ipython3",
   "version": "3.7.0"
  }
 },
 "nbformat": 4,
 "nbformat_minor": 2
}
