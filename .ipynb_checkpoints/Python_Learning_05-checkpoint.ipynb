{
 "cells": [
  {
   "cell_type": "markdown",
   "metadata": {},
   "source": [
    "# while循环\n",
    "- 一个语句\n",
    "- 表示当某个语句成立时，就循环\n",
    "- 不知道循环的次数，但能确认循环成立的条件时候用while\n",
    "- while语法\n",
    "\n",
    "    while条件成立；\n",
    "        语句块\n",
    "    while 条件语句1：\n",
    "        语句块1\n",
    "    else：\n",
    "        语句块2"
   ]
  },
  {
   "cell_type": "code",
   "execution_count": 3,
   "metadata": {},
   "outputs": [
    {
     "name": "stdout",
     "output_type": "stream",
     "text": [
      "第1年，拿106700.0钱\n",
      "第2年，拿113848.9钱\n",
      "第3年，拿121476.77629999998钱\n",
      "第4年，拿129615.72031209998钱\n",
      "第5年，拿138299.97357301068钱\n",
      "第6年，拿147566.07180240238钱\n",
      "第7年，拿157452.99861316333钱\n",
      "第8年，拿168002.34952024528钱\n",
      "第9年，拿179258.5069381017钱\n",
      "第10年，拿191268.8269029545钱\n",
      "第11年，拿204083.83830545243钱\n"
     ]
    }
   ],
   "source": [
    "Principal = 100000\n",
    "year = 0\n",
    "while Principal < 200000:\n",
    "    Principal=Principal*(1+ 0.067)\n",
    "    year += 1\n",
    "    print(\"第{0}年，拿{1}钱\".format(year,Principal))"
   ]
  },
  {
   "cell_type": "code",
   "execution_count": 5,
   "metadata": {},
   "outputs": [
    {
     "name": "stdout",
     "output_type": "stream",
     "text": [
      "第1年，拿106700.0钱\n",
      "第2年，拿113848.9钱\n",
      "第3年，拿121476.77629999998钱\n",
      "第4年，拿129615.72031209998钱\n",
      "第5年，拿138299.97357301068钱\n",
      "第6年，拿147566.07180240238钱\n",
      "第7年，拿157452.99861316333钱\n",
      "第8年，拿168002.34952024528钱\n",
      "第9年，拿179258.5069381017钱\n",
      "第10年，拿191268.8269029545钱\n",
      "第11年，拿204083.83830545243钱\n",
      "终于翻倍了\n"
     ]
    }
   ],
   "source": [
    "Principal = 100000\n",
    "year = 0\n",
    "while Principal < 200000:\n",
    "    Principal=Principal*(1+ 0.067)\n",
    "    year += 1\n",
    "    print(\"第{0}年，拿{1}钱\".format(year,Principal))\n",
    "else:\n",
    "    print(\"终于翻倍了\")"
   ]
  },
  {
   "cell_type": "markdown",
   "metadata": {},
   "source": [
    "# 函数\n",
    "- 代码的一种组织形式\n",
    "- 一个函数一般完成一项特定的功能\n",
    "- 函数的使用\n",
    "    - 函数需要先定义\n",
    "    - 使用函数，俗称调用"
   ]
  },
  {
   "cell_type": "code",
   "execution_count": 12,
   "metadata": {},
   "outputs": [
    {
     "name": "stdout",
     "output_type": "stream",
     "text": [
      "go\n",
      "test\n"
     ]
    }
   ],
   "source": [
    "#定义一个函数\n",
    "#只是定义，不会执行\n",
    "#1. def关键字，后跟一个空格\n",
    "#2. 函数名，自己定义，约定俗成，大驼峰只给类用；\n",
    "#3. 后面的括号和冒号不能省略，括号内可用参数\n",
    "#4. 函数内所有代码缩进\n",
    "def func():\n",
    "    print(\"go\")\n",
    "    print(\"test\")\n",
    "func()"
   ]
  },
  {
   "cell_type": "markdown",
   "metadata": {},
   "source": [
    "## 函数的参数和返回值\n",
    "- 参数：负责给函数传递必要的信息\n",
    "    - 形式参数，只是一个占位符\n",
    "    - 实际参数，在调用的时候输入值\n",
    "- 返回值：函数的执行结果\n"
   ]
  },
  {
   "cell_type": "code",
   "execution_count": 15,
   "metadata": {},
   "outputs": [
    {
     "name": "stdout",
     "output_type": "stream",
     "text": [
      "delphi,你好\n",
      "hello\n"
     ]
    }
   ],
   "source": [
    "def hello(preson):#参数person只是一个符号，代表调用的时候某个数据\n",
    "    print(\"{0},你好\".format(preson))\n",
    "    print(\"hello\")\n",
    "p= \"delphi\"\n",
    "hello(p)"
   ]
  },
  {
   "cell_type": "code",
   "execution_count": 37,
   "metadata": {},
   "outputs": [
    {
     "name": "stdout",
     "output_type": "stream",
     "text": [
      "delphi,你好\n"
     ]
    }
   ],
   "source": [
    "#return语句,return 完了就结束\n",
    "def hello(preson):\n",
    "    return(\"{0},你好\".format(preson))\n",
    "    print(\"你好呀\")#不执行\n",
    "p= \"delphi\"\n",
    "rst=hello(p)\n",
    "print(rst)"
   ]
  },
  {
   "cell_type": "code",
   "execution_count": 39,
   "metadata": {},
   "outputs": [
    {
     "name": "stdout",
     "output_type": "stream",
     "text": [
      "Help on built-in function print in module builtins:\n",
      "\n",
      "print(...)\n",
      "    print(value, ..., sep=' ', end='\\n', file=sys.stdout, flush=False)\n",
      "    \n",
      "    Prints the values to a stream, or to sys.stdout by default.\n",
      "    Optional keyword arguments:\n",
      "    file:  a file-like object (stream); defaults to the current sys.stdout.\n",
      "    sep:   string inserted between values, default a space.\n",
      "    end:   string appended after the last value, default a newline.\n",
      "    flush: whether to forcibly flush the stream.\n",
      "\n"
     ]
    }
   ],
   "source": [
    "#查找函数帮助方法\n",
    "help(print)"
   ]
  },
  {
   "cell_type": "code",
   "execution_count": 1,
   "metadata": {},
   "outputs": [
    {
     "name": "stdout",
     "output_type": "stream",
     "text": [
      "1 - - - - \n",
      "2 4 - - - - \n",
      "3 6 9 - - - - \n",
      "4 8 12 16 - - - - \n",
      "5 10 15 20 25 - - - - \n",
      "6 12 18 24 30 36 - - - - \n",
      "7 14 21 28 35 42 49 - - - - \n",
      "8 16 24 32 40 48 56 64 - - - - \n",
      "9 18 27 36 45 54 63 72 81 - - - - \n"
     ]
    }
   ],
   "source": [
    "#九九乘法表\n",
    "\n",
    "for row in range(1,10):\n",
    "    for col in range(1,row+1):\n",
    "        print(row * col,end=\" \")\n",
    "    print(\"- - - - \")\n"
   ]
  },
  {
   "cell_type": "code",
   "execution_count": 52,
   "metadata": {},
   "outputs": [
    {
     "name": "stdout",
     "output_type": "stream",
     "text": [
      "1 \n",
      "2 4 \n",
      "3 6 9 \n",
      "4 8 12 16 \n",
      "5 10 15 20 25 \n",
      "6 12 18 24 30 36 \n",
      "7 14 21 28 35 42 49 \n",
      "8 16 24 32 40 48 56 64 \n",
      "9 18 27 36 45 54 63 72 81 \n"
     ]
    }
   ],
   "source": [
    "def printline(row):\n",
    "    for col in range(1,row+1):\n",
    "        print(row * col,end=\" \")\n",
    "    print() \n",
    "for row in range(1,10):\n",
    "    printline(row)"
   ]
  },
  {
   "cell_type": "markdown",
   "metadata": {},
   "source": [
    "#### 零基础入门学python（小甲鱼）-腾讯公开免费课"
   ]
  }
 ],
 "metadata": {
  "kernelspec": {
   "display_name": "Python 3",
   "language": "python",
   "name": "python3"
  },
  "language_info": {
   "codemirror_mode": {
    "name": "ipython",
    "version": 3
   },
   "file_extension": ".py",
   "mimetype": "text/x-python",
   "name": "python",
   "nbconvert_exporter": "python",
   "pygments_lexer": "ipython3",
   "version": "3.7.0"
  }
 },
 "nbformat": 4,
 "nbformat_minor": 2
}
