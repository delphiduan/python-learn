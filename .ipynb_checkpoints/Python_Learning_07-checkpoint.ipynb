{
 "cells": [
  {
   "cell_type": "markdown",
   "metadata": {},
   "source": [
    "# 内置数据结构\n",
    "\n",
    "## list\n",
    "- del"
   ]
  },
  {
   "cell_type": "code",
   "execution_count": 5,
   "metadata": {},
   "outputs": [
    {
     "name": "stdout",
     "output_type": "stream",
     "text": [
      "[1, 2, 3, 4, 5]\n",
      "139935258499784\n",
      "[1, 3, 4, 5]\n",
      "139935258499784\n"
     ]
    }
   ],
   "source": [
    "l = [1,2,3,4,5]\n",
    "print(l)\n",
    "print(id(l))\n",
    "del l[1]\n",
    "print(l)\n",
    "print(id(l))\n",
    "    "
   ]
  },
  {
   "cell_type": "code",
   "execution_count": 7,
   "metadata": {},
   "outputs": [
    {
     "ename": "NameError",
     "evalue": "name 'a' is not defined",
     "output_type": "error",
     "traceback": [
      "\u001b[0;31m---------------------------------------------------------------------------\u001b[0m",
      "\u001b[0;31mNameError\u001b[0m                                 Traceback (most recent call last)",
      "\u001b[0;32m<ipython-input-7-81ea2efbdee7>\u001b[0m in \u001b[0;36m<module>\u001b[0;34m()\u001b[0m\n\u001b[1;32m      2\u001b[0m \u001b[0ma\u001b[0m \u001b[0;34m=\u001b[0m \u001b[0;36m1\u001b[0m\u001b[0;34m\u001b[0m\u001b[0m\n\u001b[1;32m      3\u001b[0m \u001b[0;32mdel\u001b[0m \u001b[0ma\u001b[0m\u001b[0;34m\u001b[0m\u001b[0m\n\u001b[0;32m----> 4\u001b[0;31m \u001b[0mprint\u001b[0m\u001b[0;34m(\u001b[0m\u001b[0ma\u001b[0m\u001b[0;34m)\u001b[0m\u001b[0;34m\u001b[0m\u001b[0m\n\u001b[0m",
      "\u001b[0;31mNameError\u001b[0m: name 'a' is not defined"
     ]
    }
   ],
   "source": [
    "#del变量删除后不能再调用\n",
    "a = 1\n",
    "del a\n",
    "print(a)\n"
   ]
  },
  {
   "cell_type": "markdown",
   "metadata": {},
   "source": [
    "## 列表运算"
   ]
  },
  {
   "cell_type": "code",
   "execution_count": 11,
   "metadata": {},
   "outputs": [
    {
     "name": "stdout",
     "output_type": "stream",
     "text": [
      "[1, 2, 3, 'a', 'b', 'c']\n"
     ]
    }
   ],
   "source": [
    "#列表相加\n",
    "a = [1,2,3]\n",
    "b = ['a','b','c']\n",
    "c = a + b\n",
    "print(c)"
   ]
  },
  {
   "cell_type": "code",
   "execution_count": 13,
   "metadata": {},
   "outputs": [
    {
     "name": "stdout",
     "output_type": "stream",
     "text": [
      "[1, 2, 3, 1, 2, 3, 1, 2, 3]\n"
     ]
    }
   ],
   "source": [
    "#列表相乘\n",
    "#重复列表，把n个列表连在一起\n",
    "c = a * 3\n",
    "print(c)"
   ]
  },
  {
   "cell_type": "code",
   "execution_count": 16,
   "metadata": {},
   "outputs": [
    {
     "name": "stdout",
     "output_type": "stream",
     "text": [
      "False\n",
      "True\n"
     ]
    }
   ],
   "source": [
    "#成员资格运算\n",
    "#判断一个元素是否在list里面\n",
    "a = [1,2,3,4,5,6]\n",
    "b = 8\n",
    "\n",
    "c = b in a\n",
    "print(c)\n",
    "\n",
    "c = b not in a\n",
    "print(c)"
   ]
  },
  {
   "cell_type": "markdown",
   "metadata": {},
   "source": [
    "## 列表的历遍\n",
    "- for\n",
    "- while"
   ]
  },
  {
   "cell_type": "code",
   "execution_count": 18,
   "metadata": {},
   "outputs": [
    {
     "name": "stdout",
     "output_type": "stream",
     "text": [
      "1\n",
      "2\n",
      "3\n",
      "4\n"
     ]
    }
   ],
   "source": [
    "a = [1,2,3,4]\n",
    "for i in a:\n",
    "    print(i)"
   ]
  },
  {
   "cell_type": "code",
   "execution_count": 22,
   "metadata": {},
   "outputs": [
    {
     "name": "stdout",
     "output_type": "stream",
     "text": [
      "1\n",
      "2\n",
      "3\n",
      "4\n"
     ]
    }
   ],
   "source": [
    "#whlie一般不历遍list\n",
    "a = [1,2,3,4]\n",
    "length = len(a)\n",
    "indx = 0\n",
    "while  indx < length:\n",
    "    print(a[indx])\n",
    "    indx += 1"
   ]
  },
  {
   "cell_type": "code",
   "execution_count": 26,
   "metadata": {},
   "outputs": [
    {
     "name": "stdout",
     "output_type": "stream",
     "text": [
      "a - - 2\n",
      "b - - 1\n",
      "c - - 3\n"
     ]
    }
   ],
   "source": [
    "# 双层列表循环变异\n",
    "#a 为嵌套列表,双层列表\n",
    "a= [['a',2],['b',1],['c',3]]\n",
    "for k,v in a:\n",
    "    print(k,'- -',v)"
   ]
  },
  {
   "cell_type": "code",
   "execution_count": 30,
   "metadata": {},
   "outputs": [
    {
     "ename": "ValueError",
     "evalue": "too many values to unpack (expected 2)",
     "output_type": "error",
     "traceback": [
      "\u001b[0;31m---------------------------------------------------------------------------\u001b[0m",
      "\u001b[0;31mValueError\u001b[0m                                Traceback (most recent call last)",
      "\u001b[0;32m<ipython-input-30-f12c4fbd5dda>\u001b[0m in \u001b[0;36m<module>\u001b[0;34m()\u001b[0m\n\u001b[1;32m      1\u001b[0m \u001b[0ma\u001b[0m\u001b[0;34m=\u001b[0m \u001b[0;34m[\u001b[0m\u001b[0;34m[\u001b[0m\u001b[0;34m'a'\u001b[0m\u001b[0;34m,\u001b[0m\u001b[0;36m2\u001b[0m\u001b[0;34m,\u001b[0m\u001b[0;34m'c'\u001b[0m\u001b[0;34m]\u001b[0m\u001b[0;34m,\u001b[0m\u001b[0;34m[\u001b[0m\u001b[0;34m'b'\u001b[0m\u001b[0;34m,\u001b[0m\u001b[0;36m1\u001b[0m\u001b[0;34m]\u001b[0m\u001b[0;34m,\u001b[0m\u001b[0;34m[\u001b[0m\u001b[0;34m'c'\u001b[0m\u001b[0;34m,\u001b[0m\u001b[0;36m3\u001b[0m\u001b[0;34m]\u001b[0m\u001b[0;34m]\u001b[0m\u001b[0;34m\u001b[0m\u001b[0m\n\u001b[0;32m----> 2\u001b[0;31m \u001b[0;32mfor\u001b[0m \u001b[0mk\u001b[0m\u001b[0;34m,\u001b[0m\u001b[0mv\u001b[0m \u001b[0;32min\u001b[0m \u001b[0ma\u001b[0m\u001b[0;34m:\u001b[0m\u001b[0;34m\u001b[0m\u001b[0m\n\u001b[0m\u001b[1;32m      3\u001b[0m     \u001b[0mprint\u001b[0m\u001b[0;34m(\u001b[0m\u001b[0mk\u001b[0m\u001b[0;34m,\u001b[0m\u001b[0;34m'- -'\u001b[0m\u001b[0;34m,\u001b[0m\u001b[0mv\u001b[0m\u001b[0;34m)\u001b[0m\u001b[0;34m\u001b[0m\u001b[0m\n",
      "\u001b[0;31mValueError\u001b[0m: too many values to unpack (expected 2)"
     ]
    }
   ],
   "source": [
    "a= [['a',2,'c'],['b',1],['c',3]]\n",
    "for k,v in a:\n",
    "    print(k,'- -',v)"
   ]
  },
  {
   "cell_type": "markdown",
   "metadata": {},
   "source": [
    "## 列表内涵 list content\n",
    "- 用简单的方法创建列表"
   ]
  },
  {
   "cell_type": "code",
   "execution_count": 36,
   "metadata": {},
   "outputs": [
    {
     "name": "stdout",
     "output_type": "stream",
     "text": [
      "[1, 2, 3, 5, 6]\n"
     ]
    }
   ],
   "source": [
    "a = [1,2,3,5,6]\n",
    "b = [i for i in a]\n",
    "print(b)"
   ]
  },
  {
   "cell_type": "code",
   "execution_count": 35,
   "metadata": {},
   "outputs": [
    {
     "name": "stdout",
     "output_type": "stream",
     "text": [
      "[10, 20, 30, 40, 50, 60]\n"
     ]
    }
   ],
   "source": [
    "a = [1,2,3,4,5,6]\n",
    "b = [i*10 for i in a]\n",
    "print(b)"
   ]
  },
  {
   "cell_type": "code",
   "execution_count": 38,
   "metadata": {},
   "outputs": [
    {
     "name": "stdout",
     "output_type": "stream",
     "text": [
      "[2, 4, 6]\n"
     ]
    }
   ],
   "source": [
    "#带条件表达式\n",
    "a = [1,2,3,4,5,6]\n",
    "b = [i for i in a if i % 2 == 0 ]\n",
    "print(b)"
   ]
  },
  {
   "cell_type": "code",
   "execution_count": 56,
   "metadata": {},
   "outputs": [
    {
     "name": "stdout",
     "output_type": "stream",
     "text": [
      "[1, 2, 3, 4]\n",
      "[100, 200, 300, 400]\n",
      "[101, 201, 301, 401, 102, 202, 302, 402, 103, 203, 303, 403, 104, 204, 304, 404]\n",
      "[101, 401, 402, 403, 404, 202, 302, 402, 103, 203, 303, 403, 104, 204, 304, 404]\n"
     ]
    }
   ],
   "source": [
    "#列表生成式可以嵌套\n",
    "a = [i for i in range(1,5)] \n",
    "print(a)\n",
    "b = [i*100 for i in range(1,5)]\n",
    "print(b)\n",
    "\n",
    "c= [m+n for m in a for n in b ]\n",
    "print(c)\n",
    "\n",
    "\n",
    "for m in a:\n",
    "    for n in b:\n",
    "       c[m]= m + n\n",
    "    \n",
    "print(c)\n",
    "\n"
   ]
  },
  {
   "cell_type": "code",
   "execution_count": 63,
   "metadata": {},
   "outputs": [
    {
     "name": "stdout",
     "output_type": "stream",
     "text": [
      "9\n",
      "9\n",
      "['l', ' ', 'l', 'o', 'v', 'e', ' ', 'y', 'u', 'm', 'i']\n",
      "['l', ' ', 'l', 'o', 'v', 'e', ' ', 'y', 'u', 'm', 'i']\n"
     ]
    }
   ],
   "source": [
    "#len ,max函数\n",
    "a = len(range(1,10))\n",
    "print(a)\n",
    "a = max(range(1,10))\n",
    "print(a)\n",
    "#转换list\n",
    "a = \"l love yumi\"\n",
    "b = list(a)\n",
    "print(b)\n",
    "print(list(a))"
   ]
  },
  {
   "cell_type": "markdown",
   "metadata": {},
   "source": [
    " # listsetdicttuple"
   ]
  },
  {
   "cell_type": "code",
   "execution_count": 68,
   "metadata": {},
   "outputs": [
    {
     "name": "stdout",
     "output_type": "stream",
     "text": [
      "[1, 2, 3, 4]\n",
      "[1, 2, 100, 4]\n",
      "[1, 2, 100, 4]\n",
      "9\n",
      "109\n",
      "9\n"
     ]
    }
   ],
   "source": [
    "def a(n):\n",
    "    n[2] = 100\n",
    "    print(n)\n",
    "    return None\n",
    "def b(n):\n",
    "    n += 100\n",
    "    print(n)\n",
    "    return None\n",
    "an = [1,2,3,4]\n",
    "bn = 9\n",
    "print(an)\n",
    "a(an)\n",
    "print(an)\n",
    "print(bn)\n",
    "b(bn)\n",
    "print(bn)\n",
    "#传值和传地址的问题\n",
    "#对简单的传值\n",
    "#对复杂的传地址，对象不变，是同一份\n",
    "    "
   ]
  },
  {
   "cell_type": "markdown",
   "metadata": {},
   "source": [
    "# 关于列表的函数 \n",
    "\n"
   ]
  },
  {
   "cell_type": "code",
   "execution_count": 70,
   "metadata": {},
   "outputs": [
    {
     "name": "stdout",
     "output_type": "stream",
     "text": [
      "[1, 2, 3, 4, 5, 6, 7, 8, 9, 100]\n"
     ]
    }
   ],
   "source": [
    "#append 插入、追加\n",
    "\n",
    "a = [i for i in range(1,10)]\n",
    "a.append(100)\n",
    "print(a)"
   ]
  },
  {
   "cell_type": "code",
   "execution_count": 72,
   "metadata": {},
   "outputs": [
    {
     "name": "stdout",
     "output_type": "stream",
     "text": [
      "[1, 2, 3, 666, 666, 4, 5, 6, 7, 8, 9, 100]\n"
     ]
    }
   ],
   "source": [
    "#insert 定位插入\n",
    "a.insert(3,666)\n",
    "print(a)"
   ]
  },
  {
   "cell_type": "code",
   "execution_count": 118,
   "metadata": {},
   "outputs": [
    {
     "name": "stdout",
     "output_type": "stream",
     "text": [
      "[1, 2, 3, 666, 666, 4, 5, 6, 7, 8, 9, 100]\n",
      "[1, 2, 3, 666, 666, 4, 5, 6, 7, 8, 9]\n",
      "[1, 2, 666, 666, 4, 5, 6, 7, 8, 9]\n",
      "[2, 666, 666, 4, 5, 6, 7, 8, 9]\n"
     ]
    }
   ],
   "source": [
    "#del 删除\n",
    "#pop 把最后那个删除\n",
    "a = [1, 2, 3, 666, 666, 4, 5, 6, 7, 8, 9, 100]\n",
    "print(a)\n",
    "a.pop()\n",
    "print(a)\n",
    "del a[2]\n",
    "print(a)\n",
    "a.pop(0)\n",
    "print(a)"
   ]
  },
  {
   "cell_type": "code",
   "execution_count": 104,
   "metadata": {},
   "outputs": [
    {
     "name": "stdout",
     "output_type": "stream",
     "text": [
      "[1, 2, 666, 666, 4, 5, 6, 7, 8]\n",
      "139935205137544\n",
      "[1, 2, 666, 4, 5, 6, 7, 8]\n",
      "139935205137544\n"
     ]
    }
   ],
   "source": [
    "#remove 删除指定的值,没有会报错\n",
    "a = [1, 2, 666, 666, 4, 5, 6, 7, 8]\n",
    "print(a)\n",
    "print(id(a))\n",
    "a.remove(666)\n",
    "print(a)\n",
    "print(id(a))"
   ]
  },
  {
   "cell_type": "code",
   "execution_count": 99,
   "metadata": {},
   "outputs": [
    {
     "name": "stdout",
     "output_type": "stream",
     "text": [
      "[1, 2, 666, 666, 4, 5, 6, 7, 8]\n",
      "139935205154568\n",
      "[]\n",
      "139935205154568\n",
      "[]\n",
      "139935205048136\n"
     ]
    }
   ],
   "source": [
    "#clear 清空\n",
    "a = [1, 2, 666, 666, 4, 5, 6, 7, 8]\n",
    "print(a)\n",
    "print(id(a))\n",
    "a.clear()\n",
    "print(a)\n",
    "print(id(a))\n",
    "#不需要地址一致\n",
    "a = []\n",
    "print(a)\n",
    "print(id(a))"
   ]
  },
  {
   "cell_type": "code",
   "execution_count": 110,
   "metadata": {},
   "outputs": [
    {
     "name": "stdout",
     "output_type": "stream",
     "text": [
      "[1, 2, 666, 666, 4, 5, 6, 7, 8]\n",
      "139935205542472\n",
      "[8, 7, 6, 5, 4, 666, 666, 2, 1]\n",
      "139935205542472\n"
     ]
    }
   ],
   "source": [
    "#reverse 翻转，原地翻转\n",
    "a = [1, 2, 666, 666, 4, 5, 6, 7, 8]\n",
    "print(a)\n",
    "print(id(a))\n",
    "a.reverse()\n",
    "print(a)\n",
    "print(id(a))"
   ]
  },
  {
   "cell_type": "code",
   "execution_count": 116,
   "metadata": {},
   "outputs": [
    {
     "name": "stdout",
     "output_type": "stream",
     "text": [
      "['a', 'b', 'c', 1, 2, 3]\n"
     ]
    }
   ],
   "source": [
    "#extend 扩展列表，列表一个接到后面去\n",
    "a = ['a','b','c']\n",
    "b = [1,2,3]\n",
    "a.extend(b)\n",
    "print(a)"
   ]
  },
  {
   "cell_type": "code",
   "execution_count": 119,
   "metadata": {},
   "outputs": [
    {
     "name": "stdout",
     "output_type": "stream",
     "text": [
      "Help on method_descriptor:\n",
      "\n",
      "pop(self, index=-1, /)\n",
      "    Remove and return item at index (default last).\n",
      "    \n",
      "    Raises IndexError if list is empty or index is out of range.\n",
      "\n"
     ]
    }
   ],
   "source": [
    "help(list.pop)"
   ]
  },
  {
   "cell_type": "code",
   "execution_count": 125,
   "metadata": {},
   "outputs": [
    {
     "name": "stdout",
     "output_type": "stream",
     "text": [
      "[2, 8, 8, 8, 8, 666, 666, 4, 5, 6, 7, 8, 9, 8, 8, 8, 8]\n",
      "[2, 8, 8, 8, 8, 8, 666, 666, 4, 5, 6, 7, 8, 9, 8, 8, 8, 8, 8]\n",
      "11\n"
     ]
    }
   ],
   "source": [
    "#count.查找指定元素的个数\n",
    "print(a)\n",
    "a.append(8)\n",
    "a.insert(1,8)\n",
    "print(a)\n",
    "c = a.count(8)\n",
    "print(c)"
   ]
  },
  {
   "cell_type": "code",
   "execution_count": 139,
   "metadata": {},
   "outputs": [
    {
     "name": "stdout",
     "output_type": "stream",
     "text": [
      "[1, 2, 100, 4]\n",
      "139935205478664\n",
      "[1, 2, 100, 4]\n",
      "139935205478664\n",
      "****************************************************************************************************\n",
      "[1, 2, 100, 4]\n",
      "139935205478664\n",
      "[1, 2, 100, 4]\n",
      "139935205152520\n",
      "[1, 2, 300, 4]\n"
     ]
    }
   ],
   "source": [
    "#copy 浅拷贝\n",
    "a = [1,2,3,4]\n",
    "b = a\n",
    "a[2] = 100\n",
    "print(a)\n",
    "print(id(a))\n",
    "print(b)\n",
    "print(id(b))\n",
    "print('*'*100)\n",
    "\n",
    "b = a.copy()\n",
    "print(a)\n",
    "print(id(a))\n",
    "print(b)\n",
    "print(id(b))\n",
    "a[2] = 300\n",
    "print(a)\n",
    "\n"
   ]
  },
  {
   "cell_type": "code",
   "execution_count": 145,
   "metadata": {},
   "outputs": [
    {
     "name": "stdout",
     "output_type": "stream",
     "text": [
      "139935258559816\n",
      "139935205195464\n",
      "139935204987848\n",
      "139935205195464\n"
     ]
    }
   ],
   "source": [
    "#深拷贝,需要特定工具\n",
    "a = [1,2,3,['a','b','c']]\n",
    "b = a.copy()\n",
    "print(id(a))\n",
    "print(id(a[3]))\n",
    "print(id(b))\n",
    "print(id(b[3]))"
   ]
  },
  {
   "cell_type": "markdown",
   "metadata": {},
   "source": [
    "# 元祖tuple\n",
    "- 不可更改的的list\n",
    "- 是序列表，有序\n",
    "- 元祖数据可以访问，不能修改\n",
    "- 元祖数据可以是任意类型\n",
    "- 除了修改，list有的操作，tuple都有"
   ]
  },
  {
   "cell_type": "code",
   "execution_count": 148,
   "metadata": {},
   "outputs": [
    {
     "name": "stdout",
     "output_type": "stream",
     "text": [
      "<class 'int'>\n",
      "<class 'tuple'>\n",
      "<class 'tuple'>\n"
     ]
    }
   ],
   "source": [
    "t = 1\n",
    "print(type(t))\n",
    "t = 1,\n",
    "print(type(t))\n",
    "t = (1,)\n",
    "print(type(t))"
   ]
  },
  {
   "cell_type": "code",
   "execution_count": 151,
   "metadata": {},
   "outputs": [
    {
     "name": "stdout",
     "output_type": "stream",
     "text": [
      "3\n",
      "(3, 4, 5)\n"
     ]
    }
   ],
   "source": [
    "t = (1,2,3,4,5)\n",
    "print(t[2])\n",
    "#切片可以超标\n",
    "print(t[2:100])"
   ]
  },
  {
   "cell_type": "code",
   "execution_count": 153,
   "metadata": {},
   "outputs": [
    {
     "name": "stdout",
     "output_type": "stream",
     "text": [
      "(1, 2, 3, 4, 5, 6)\n"
     ]
    }
   ],
   "source": [
    "t1 = (1,2,3)\n",
    "t2 = (4,5,6)\n",
    "t1 = t1 + t2\n",
    "print(t1)"
   ]
  },
  {
   "cell_type": "code",
   "execution_count": 155,
   "metadata": {},
   "outputs": [
    {
     "name": "stdout",
     "output_type": "stream",
     "text": [
      "(1, 2, 3, 1, 2, 3)\n"
     ]
    }
   ],
   "source": [
    "t1 = (1,2,3)\n",
    "t1= (1,2,3) * 2\n",
    "print(t1)"
   ]
  },
  {
   "cell_type": "code",
   "execution_count": 160,
   "metadata": {},
   "outputs": [
    {
     "name": "stdout",
     "output_type": "stream",
     "text": [
      "yes\n"
     ]
    }
   ],
   "source": [
    "t = (1,2,3)\n",
    "if 3 in t:\n",
    "    print(\"yes\") \n",
    "else:\n",
    "    print(\"no\")"
   ]
  },
  {
   "cell_type": "code",
   "execution_count": 165,
   "metadata": {},
   "outputs": [
    {
     "name": "stdout",
     "output_type": "stream",
     "text": [
      "1 2 3 1 love ok "
     ]
    }
   ],
   "source": [
    "t = (1,2,3,'1','love','ok')\n",
    "for i in t:\n",
    "    print(i,end=\" \")"
   ]
  },
  {
   "cell_type": "markdown",
   "metadata": {},
   "source": [
    "# 元祖的函数"
   ]
  },
  {
   "cell_type": "code",
   "execution_count": 168,
   "metadata": {},
   "outputs": [
    {
     "name": "stdout",
     "output_type": "stream",
     "text": [
      "5\n"
     ]
    }
   ],
   "source": [
    "t = (2,3,4,5,5)\n",
    "print(max(t))"
   ]
  },
  {
   "cell_type": "code",
   "execution_count": 173,
   "metadata": {},
   "outputs": [
    {
     "name": "stdout",
     "output_type": "stream",
     "text": [
      "(1, 3, 2, 434, 43)\n"
     ]
    }
   ],
   "source": [
    "l = [1,3,2,434,43]\n",
    "t = tuple(l)\n",
    "print(t)"
   ]
  },
  {
   "cell_type": "code",
   "execution_count": 176,
   "metadata": {},
   "outputs": [
    {
     "name": "stdout",
     "output_type": "stream",
     "text": [
      "2\n",
      "1\n"
     ]
    }
   ],
   "source": [
    "#变量交换\n",
    "a = 1\n",
    "b = 2\n",
    "a,b = b,a\n",
    "print(a)\n",
    "print(b)"
   ]
  },
  {
   "cell_type": "markdown",
   "metadata": {},
   "source": [
    "# 集合 -set\n",
    "- 集合是一堆的无序的唯一的数据，集合的每个数据都是一个元素\n"
   ]
  },
  {
   "cell_type": "code",
   "execution_count": 180,
   "metadata": {},
   "outputs": [
    {
     "name": "stdout",
     "output_type": "stream",
     "text": [
      "<class 'set'>\n",
      "<class 'set'>\n"
     ]
    }
   ],
   "source": [
    "s = set()\n",
    "print(type(s))\n",
    "s = {1,232,45,'a'}\n",
    "print(type(s))\n"
   ]
  },
  {
   "cell_type": "markdown",
   "metadata": {},
   "source": [
    "## 集合的特征\n",
    "- 集合无序，没法分片和索引\n",
    "- 具有唯一性，可以排重\n",
    "- str，int，float，tuple等，只能是可哈希的数据"
   ]
  },
  {
   "cell_type": "code",
   "execution_count": 183,
   "metadata": {},
   "outputs": [
    {
     "name": "stdout",
     "output_type": "stream",
     "text": [
      "{1, 2, 3}\n",
      "<class 'set'>\n"
     ]
    }
   ],
   "source": [
    "s = {1,2,1,3}\n",
    "print(s)\n",
    "print(type(s))"
   ]
  },
  {
   "cell_type": "code",
   "execution_count": 185,
   "metadata": {},
   "outputs": [
    {
     "name": "stdout",
     "output_type": "stream",
     "text": [
      "1\n",
      "2\n",
      "3\n"
     ]
    }
   ],
   "source": [
    "s = {1,2,1,3}\n",
    "for i in s:\n",
    "    print(i)"
   ]
  },
  {
   "cell_type": "code",
   "execution_count": 189,
   "metadata": {},
   "outputs": [
    {
     "name": "stdout",
     "output_type": "stream",
     "text": [
      "a - - b - - c\n",
      "1 - - 2 - - 3\n",
      "('a', 'b', 'c')\n",
      "(1, 2, 3)\n"
     ]
    }
   ],
   "source": [
    "# 元祖的组合历遍\n",
    "s = {(1,2,3),('a','b','c')}\n",
    "for k,v,m in s:\n",
    "    print(k,'- -',v,'- -',m)\n",
    "for k in s:\n",
    "    print(k)"
   ]
  },
  {
   "cell_type": "markdown",
   "metadata": {},
   "source": [
    "# 集合的内涵"
   ]
  },
  {
   "cell_type": "code",
   "execution_count": 193,
   "metadata": {},
   "outputs": [
    {
     "name": "stdout",
     "output_type": "stream",
     "text": [
      "{1, 34, 2, 3, 4, 3434, 5452, 23}\n"
     ]
    }
   ],
   "source": [
    "s = {23,3434,5452,34,1,2,3,1,4,23}\n",
    "print(s)"
   ]
  },
  {
   "cell_type": "code",
   "execution_count": 3,
   "metadata": {},
   "outputs": [
    {
     "name": "stdout",
     "output_type": "stream",
     "text": [
      "{34, 5, 6, 14, 20, 22, 23, 56}\n",
      "{34, 5, 6, 14, 20, 22, 23, 56}\n",
      "{34, 6, 14, 20, 22, 56}\n"
     ]
    }
   ],
   "source": [
    "s = {5,6,5,6,34,56,23,34,5,20,22,14,23}\n",
    "ss = {i for i in s}\n",
    "print(s)\n",
    "print(ss )\n",
    "\n",
    "ss = {i for i in s if i % 2 == 0}\n",
    "print(ss)"
   ]
  },
  {
   "cell_type": "code",
   "execution_count": 6,
   "metadata": {},
   "outputs": [
    {
     "name": "stdout",
     "output_type": "stream",
     "text": [
      "{'iiii', 'love', 'iii', 'lovelovelovelove', 'yumiyumiyumi', 'lovelove', 'yumi', 'i', 'lovelovelove', 'yumiyumi', 'yumiyumiyumiyumi', 'ii'}\n"
     ]
    }
   ],
   "source": [
    "s1={1,2,4,3}\n",
    "s2={'i', 'love','yumi'}\n",
    "s = {m*n for m in s1 for n in s2}\n",
    "print(s)"
   ]
  },
  {
   "cell_type": "markdown",
   "metadata": {},
   "source": [
    "# 集合函数\n"
   ]
  },
  {
   "cell_type": "code",
   "execution_count": 15,
   "metadata": {},
   "outputs": [
    {
     "name": "stdout",
     "output_type": "stream",
     "text": [
      "56\n",
      "8\n",
      "5\n"
     ]
    }
   ],
   "source": [
    "s = {5,6,5,6,34,56,23,34,5,20,22,14,23}\n",
    "print(max(s))\n",
    "print(len(s))\n",
    "print(min(s))"
   ]
  },
  {
   "cell_type": "code",
   "execution_count": 16,
   "metadata": {},
   "outputs": [
    {
     "name": "stdout",
     "output_type": "stream",
     "text": [
      "{34, 5, 6, 14, 20, 888, 22, 23, 56}\n"
     ]
    }
   ],
   "source": [
    "#add\n",
    "s.add(888)\n",
    "print(s)"
   ]
  },
  {
   "cell_type": "code",
   "execution_count": 17,
   "metadata": {},
   "outputs": [
    {
     "name": "stdout",
     "output_type": "stream",
     "text": [
      "set()\n"
     ]
    }
   ],
   "source": [
    "#clear\n",
    "s.clear()\n",
    "print(s)"
   ]
  },
  {
   "cell_type": "code",
   "execution_count": 18,
   "metadata": {},
   "outputs": [],
   "source": [
    "#copy \n",
    "#remove \n",
    "#discard 同上，但移出一个不能存在的元素不会报错\n",
    "\n"
   ]
  },
  {
   "cell_type": "code",
   "execution_count": 24,
   "metadata": {},
   "outputs": [
    {
     "ename": "KeyError",
     "evalue": "888",
     "output_type": "error",
     "traceback": [
      "\u001b[0;31m---------------------------------------------------------------------------\u001b[0m",
      "\u001b[0;31mKeyError\u001b[0m                                  Traceback (most recent call last)",
      "\u001b[0;32m<ipython-input-24-8ce82e261ed1>\u001b[0m in \u001b[0;36m<module>\u001b[0;34m()\u001b[0m\n\u001b[1;32m      1\u001b[0m \u001b[0ms\u001b[0m \u001b[0;34m=\u001b[0m \u001b[0;34m{\u001b[0m\u001b[0;36m5\u001b[0m\u001b[0;34m,\u001b[0m\u001b[0;36m6\u001b[0m\u001b[0;34m,\u001b[0m\u001b[0;36m5\u001b[0m\u001b[0;34m,\u001b[0m\u001b[0;36m6\u001b[0m\u001b[0;34m,\u001b[0m\u001b[0;36m34\u001b[0m\u001b[0;34m,\u001b[0m\u001b[0;36m56\u001b[0m\u001b[0;34m,\u001b[0m\u001b[0;36m23\u001b[0m\u001b[0;34m,\u001b[0m\u001b[0;36m34\u001b[0m\u001b[0;34m,\u001b[0m\u001b[0;36m5\u001b[0m\u001b[0;34m,\u001b[0m\u001b[0;36m20\u001b[0m\u001b[0;34m,\u001b[0m\u001b[0;36m22\u001b[0m\u001b[0;34m,\u001b[0m\u001b[0;36m14\u001b[0m\u001b[0;34m,\u001b[0m\u001b[0;36m23\u001b[0m\u001b[0;34m}\u001b[0m\u001b[0;34m\u001b[0m\u001b[0m\n\u001b[0;32m----> 2\u001b[0;31m \u001b[0ms\u001b[0m\u001b[0;34m.\u001b[0m\u001b[0mremove\u001b[0m\u001b[0;34m(\u001b[0m\u001b[0;36m888\u001b[0m\u001b[0;34m)\u001b[0m\u001b[0;31m#哈希值\u001b[0m\u001b[0;34m\u001b[0m\u001b[0m\n\u001b[0m\u001b[1;32m      3\u001b[0m \u001b[0ms\u001b[0m\u001b[0;34m.\u001b[0m\u001b[0mdiscard\u001b[0m\u001b[0;34m(\u001b[0m\u001b[0;36m888\u001b[0m\u001b[0;34m)\u001b[0m\u001b[0;34m\u001b[0m\u001b[0m\n\u001b[1;32m      4\u001b[0m \u001b[0mprint\u001b[0m\u001b[0;34m(\u001b[0m\u001b[0ms\u001b[0m\u001b[0;34m)\u001b[0m\u001b[0;34m\u001b[0m\u001b[0m\n",
      "\u001b[0;31mKeyError\u001b[0m: 888"
     ]
    }
   ],
   "source": [
    "s = {5,6,5,6,34,56,23,34,5,20,22,14,23}\n",
    "s.remove(888)#哈希值\n",
    "s.discard(888)\n",
    "print(s)"
   ]
  },
  {
   "cell_type": "code",
   "execution_count": 6,
   "metadata": {},
   "outputs": [
    {
     "name": "stdout",
     "output_type": "stream",
     "text": [
      "34\n",
      "{5, 6, 14, 20, 22, 23, 56}\n"
     ]
    }
   ],
   "source": [
    "s = {5,6,5,6,34,56,23,34,5,20,22,14,23}\n",
    "d = s.pop()\n",
    "print(d)\n",
    "print(s)\n"
   ]
  },
  {
   "cell_type": "code",
   "execution_count": 18,
   "metadata": {},
   "outputs": [
    {
     "name": "stdout",
     "output_type": "stream",
     "text": [
      "{1, 5, 6}\n",
      "{2, 3, 45}\n",
      "False\n",
      "True\n",
      "False\n"
     ]
    }
   ],
   "source": [
    "#集合函数\n",
    "#intersection交集\n",
    "#difference差集\n",
    "#union并集\n",
    "#issubset检查是否一个另一个子集\n",
    "#issuperset检查一个集合是否为一个超集\n",
    "#isdisjoint判断两个集合是否有相同的元素，没有返回true\n",
    "s1 = {1,2,3,45,5,6}\n",
    "s2 = {1,5,6}\n",
    "s = s1.intersection(s2)\n",
    "print(s)\n",
    "s = s1.difference(s2)\n",
    "print(s)\n",
    "s = s1.issubset(s2)\n",
    "print(s)\n",
    "s = s1.issuperset(s2)\n",
    "print(s)\n",
    "s = s1.isdisjoint(s2)\n",
    "print(s)\n"
   ]
  },
  {
   "cell_type": "code",
   "execution_count": 23,
   "metadata": {},
   "outputs": [
    {
     "name": "stdout",
     "output_type": "stream",
     "text": [
      "{2, 3, 45}\n"
     ]
    },
    {
     "ename": "TypeError",
     "evalue": "unsupported operand type(s) for +: 'set' and 'set'",
     "output_type": "error",
     "traceback": [
      "\u001b[0;31m---------------------------------------------------------------------------\u001b[0m",
      "\u001b[0;31mTypeError\u001b[0m                                 Traceback (most recent call last)",
      "\u001b[0;32m<ipython-input-23-78216f3df466>\u001b[0m in \u001b[0;36m<module>\u001b[0;34m()\u001b[0m\n\u001b[1;32m      4\u001b[0m \u001b[0ms\u001b[0m \u001b[0;34m=\u001b[0m \u001b[0ms1\u001b[0m \u001b[0;34m-\u001b[0m \u001b[0ms2\u001b[0m\u001b[0;34m\u001b[0m\u001b[0m\n\u001b[1;32m      5\u001b[0m \u001b[0mprint\u001b[0m\u001b[0;34m(\u001b[0m\u001b[0ms\u001b[0m\u001b[0;34m)\u001b[0m\u001b[0;34m\u001b[0m\u001b[0m\n\u001b[0;32m----> 6\u001b[0;31m \u001b[0ms\u001b[0m \u001b[0;34m=\u001b[0m \u001b[0ms1\u001b[0m \u001b[0;34m+\u001b[0m \u001b[0ms2\u001b[0m\u001b[0;34m\u001b[0m\u001b[0m\n\u001b[0m\u001b[1;32m      7\u001b[0m \u001b[0mprint\u001b[0m\u001b[0;34m(\u001b[0m\u001b[0ms\u001b[0m\u001b[0;34m)\u001b[0m\u001b[0;34m\u001b[0m\u001b[0m\n",
      "\u001b[0;31mTypeError\u001b[0m: unsupported operand type(s) for +: 'set' and 'set'"
     ]
    }
   ],
   "source": [
    "#集合的数学操作\n",
    "s1 = {1,2,3,45,5,6}\n",
    "s2 = {1,5,6}\n",
    "s = s1 - s2\n",
    "print(s)\n",
    "s = s1 + s2\n",
    "print(s)"
   ]
  },
  {
   "cell_type": "markdown",
   "metadata": {},
   "source": [
    "# frozenset 冰冻集合\n",
    "- 冰冻就是不可能进行任何修改的集合"
   ]
  },
  {
   "cell_type": "code",
   "execution_count": 26,
   "metadata": {},
   "outputs": [
    {
     "name": "stdout",
     "output_type": "stream",
     "text": [
      "frozenset({1, 2, 3, 5, 6, 45})\n"
     ]
    }
   ],
   "source": [
    "s1 = {1,2,3,45,5,6}\n",
    "s = frozenset(s1)\n",
    "print(s)"
   ]
  },
  {
   "cell_type": "markdown",
   "metadata": {},
   "source": [
    "# dict字典\n",
    "- 字典是一种组合数据，没有顺序的组合数据，数据以键值的形式出现\n"
   ]
  },
  {
   "cell_type": "code",
   "execution_count": 53,
   "metadata": {},
   "outputs": [
    {
     "name": "stdout",
     "output_type": "stream",
     "text": [
      "<class 'dict'>\n",
      "{}\n",
      "{'one': 1, 'two': 2, 'three': 3}\n",
      "<class 'dict'>\n",
      "{'one': 1, 'two': 2, 'three': 3}\n",
      "<class 'dict'>\n",
      "{'one': 1, 'two': 2, 'three': 3}\n",
      "<class 'dict'>\n",
      "{'one': 1, 'two': 2, 'three': 3}\n",
      "<class 'dict'>\n"
     ]
    }
   ],
   "source": [
    "# 字典的创建\n",
    "# 创建空字典\n",
    "d = {}\n",
    "print(type(d))\n",
    "print(d)\n",
    "d = {\"one\":1,\"two\":2,\"three\":3}\n",
    "print(d)\n",
    "print(type(d))\n",
    "#利用关键字\n",
    "d = dict({\"one\":1,\"two\":2,\"three\":3})\n",
    "print(d)\n",
    "print(type(d))\n",
    "d = dict(one=1,two=2,three=3) \n",
    "print(d)\n",
    "print(type(d))\n",
    "# \n",
    "d = dict([(\"one\",1),(\"two\",2),(\"three\",3)])\n",
    "print(d)\n",
    "print(type(d))"
   ]
  },
  {
   "cell_type": "markdown",
   "metadata": {},
   "source": [
    "# 字典的特征\n",
    "- 字典的序列类型，但是是无序序列，没有分片和索引\n",
    "- 字典得每个都有键值组成的，kv\n",
    "    - key 可哈希的的值int,string,flot,tuple，但是list，set，dict不行\n",
    "    - value 任何值"
   ]
  },
  {
   "cell_type": "code",
   "execution_count": 121,
   "metadata": {},
   "outputs": [
    {
     "name": "stdout",
     "output_type": "stream",
     "text": [
      "2\n",
      "3808244945842253828\n",
      "345876451382053890\n",
      "<class 'list'>\n",
      "2528502973977326415\n",
      "<class 'set'>\n",
      "<class 'dict'>\n"
     ]
    }
   ],
   "source": [
    "a = 2\n",
    "b = \"yumi\"\n",
    "c = 2.15\n",
    "d = [1,2,3]\n",
    "e = (1,2,3)\n",
    "f = {1,2,3}\n",
    "g ={\"a\":1,\"b\":2,\"c\":3}\n",
    "\n",
    "for i in [a,b,c,d,e,f,g]:\n",
    "    try:\n",
    "        print(hash(i))\n",
    "    except TypeError:\n",
    "        print(type(i))\n",
    "    finally:\n",
    "        pass \n",
    "\n",
    "    \n"
   ]
  },
  {
   "cell_type": "code",
   "execution_count": 108,
   "metadata": {},
   "outputs": [
    {
     "name": "stdout",
     "output_type": "stream",
     "text": [
      "1\n",
      "{'one': 1, 'two': 5, 'three': 3}\n",
      "{'two': 5, 'three': 3}\n"
     ]
    }
   ],
   "source": [
    "#常见的字典操作\n",
    "d = dict({\"one\":1,\"two\":2,\"three\":3})\n",
    "print(d[\"one\"])\n",
    "d[\"two\"] = 5\n",
    "print(d)\n",
    "del d[\"one\"]\n",
    "print(d)"
   ]
  },
  {
   "cell_type": "code",
   "execution_count": 118,
   "metadata": {},
   "outputs": [
    {
     "name": "stdout",
     "output_type": "stream",
     "text": [
      "key\n"
     ]
    }
   ],
   "source": [
    "#成员检测\n",
    "#成员检测的key\n",
    "d = dict({\"one\":1,\"two\":2,\"three\":3})\n",
    "if 2 in d:\n",
    "    print(\"value\")\n",
    "if \"two\" in d:\n",
    "    print(\"key\")\n",
    "if (\"two\",1) in d:\n",
    "    print(\"kv\")\n"
   ]
  },
  {
   "cell_type": "code",
   "execution_count": 127,
   "metadata": {},
   "outputs": [
    {
     "name": "stdout",
     "output_type": "stream",
     "text": [
      "one 1\n",
      "two 2\n",
      "three 3\n",
      "one 1\n",
      "two 2\n",
      "three 3\n",
      "1\n",
      "2\n",
      "3\n",
      "one - - 1\n",
      "two - - 2\n",
      "three - - 3\n"
     ]
    }
   ],
   "source": [
    "# for 循环\n",
    "#python2.x与python3.x不一样\n",
    "d = dict({\"one\":1,\"two\":2,\"three\":3})\n",
    "for k in d:\n",
    "    print(k,d[k])\n",
    "for k in d.keys():\n",
    "    print(k,d[k])\n",
    "for v in d.values():\n",
    "    print(v)\n",
    "for k,v in d.items():#历遍键和值\n",
    "    print(k,\"- -\",v)"
   ]
  },
  {
   "cell_type": "markdown",
   "metadata": {},
   "source": [
    "# 字典生成式"
   ]
  },
  {
   "cell_type": "code",
   "execution_count": 131,
   "metadata": {},
   "outputs": [
    {
     "name": "stdout",
     "output_type": "stream",
     "text": [
      "{'one': 1, 'two': 2, 'three': 3}\n",
      "{'two': 2}\n"
     ]
    }
   ],
   "source": [
    "d = dict({\"one\":1,\"two\":2,\"three\":3})\n",
    "dd = {k:v for k,v in d.items()}\n",
    "print(dd)\n",
    "#目的为了加条件式\n",
    "dd = {k:v for k,v in d.items() if v % 2 == 0}\n",
    "print(dd)"
   ]
  },
  {
   "cell_type": "markdown",
   "metadata": {},
   "source": [
    "# 字典的函数"
   ]
  },
  {
   "cell_type": "code",
   "execution_count": 142,
   "metadata": {},
   "outputs": [
    {
     "name": "stdout",
     "output_type": "stream",
     "text": [
      "3\n",
      "two\n",
      "one\n",
      "Help on built-in function max in module builtins:\n",
      "\n",
      "max(...)\n",
      "    max(iterable, *[, default=obj, key=func]) -> value\n",
      "    max(arg1, arg2, *args, *[, key=func]) -> value\n",
      "    \n",
      "    With a single iterable argument, return its biggest item. The\n",
      "    default keyword-only argument specifies an object to return if\n",
      "    the provided iterable is empty.\n",
      "    With two or more arguments, return the largest argument.\n",
      "\n"
     ]
    }
   ],
   "source": [
    "d = dict({\"one\":1,\"two\":2,\"three\":3})\n",
    "dd = len(d)\n",
    "print(dd)\n",
    "dd = max(d)\n",
    "print(dd)\n",
    "dd = min(d)\n",
    "print(dd)\n",
    "help(max)"
   ]
  },
  {
   "cell_type": "code",
   "execution_count": 145,
   "metadata": {},
   "outputs": [
    {
     "name": "stdout",
     "output_type": "stream",
     "text": [
      "dict_items([('one', 1), ('two', 2), ('three', 3)])\n",
      "<class 'dict_items'>\n"
     ]
    }
   ],
   "source": [
    "#clear\n",
    "#items返回字典的键值对组成的元祖格式\n",
    "d = dict({\"one\":1,\"two\":2,\"three\":3})\n",
    "i = d.items()\n",
    "print(i)\n",
    "print(type(i))"
   ]
  },
  {
   "cell_type": "code",
   "execution_count": 148,
   "metadata": {},
   "outputs": [
    {
     "name": "stdout",
     "output_type": "stream",
     "text": [
      "dict_keys(['one', 'two', 'three'])\n",
      "<class 'dict_keys'>\n",
      "dict_values([1, 2, 3])\n",
      "<class 'dict_values'>\n"
     ]
    }
   ],
   "source": [
    "d = dict({\"one\":1,\"two\":2,\"three\":3})\n",
    "i = d.keys()\n",
    "print(i)\n",
    "print(type(i))\n",
    "i = d.values()\n",
    "print(i)\n",
    "print(type(i))"
   ]
  },
  {
   "cell_type": "code",
   "execution_count": 230,
   "metadata": {},
   "outputs": [
    {
     "name": "stdout",
     "output_type": "stream",
     "text": [
      "1\n",
      "2\n",
      "3\n",
      "4\n",
      "5 6 7 8 9 "
     ]
    }
   ],
   "source": [
    "# x = [4, 2, 3, 5, 6]\n",
    "# print(type(x))       #可迭代的对象\n",
    "# y = iter(x)   #将list转化为迭代器\n",
    "# print(type(y))\n",
    "# print(y)\n",
    "# print(id(y))\n",
    "\n",
    "# print(next(y))\n",
    "# print(next(y))\n",
    "# print(next(y))\n",
    "# for i in y:\n",
    "#     print(i,end= \" \")\n",
    "    \n",
    "# # print(next(y))\n",
    "\n",
    "list = [1,2,3,4,5,6,7,8,9]\n",
    "inter1 = list.__iter__() \n",
    "print(inter1.__next__())\n",
    "print(inter1.__next__())\n",
    "print(inter1.__next__())\n",
    "print(inter1.__next__())\n",
    "for i in inter1:\n",
    "    print(i,end=\" \")\n"
   ]
  },
  {
   "cell_type": "code",
   "execution_count": 240,
   "metadata": {},
   "outputs": [
    {
     "name": "stdout",
     "output_type": "stream",
     "text": [
      "1\n",
      "None\n",
      "100\n"
     ]
    }
   ],
   "source": [
    "#get 可以设置默认值\n",
    "d = dict({\"one\":1,\"two\":2,\"three\":3})\n",
    "print(d.get(\"one\"))\n",
    "print(d.get(\"you\"))\n",
    "# print(d[\"you\"])\n",
    "print(d.get(\"you\",100))#没有就赋值"
   ]
  },
  {
   "cell_type": "code",
   "execution_count": 241,
   "metadata": {},
   "outputs": [
    {
     "name": "stdout",
     "output_type": "stream",
     "text": [
      "{'eins': 'good', 'zwei': 'good', 'drei': 'good'}\n"
     ]
    }
   ],
   "source": [
    "# forkeys：使用指定的序列作为键,指定一个值为所有键的值\n",
    "l = [\"eins\",\"zwei\",\"drei\"]\n",
    "d = dict.fromkeys(l,\"good\")\n",
    "print(d)"
   ]
  }
 ],
 "metadata": {
  "kernelspec": {
   "display_name": "Python 3",
   "language": "python",
   "name": "python3"
  },
  "language_info": {
   "codemirror_mode": {
    "name": "ipython",
    "version": 3
   },
   "file_extension": ".py",
   "mimetype": "text/x-python",
   "name": "python",
   "nbconvert_exporter": "python",
   "pygments_lexer": "ipython3",
   "version": "3.7.0"
  }
 },
 "nbformat": 4,
 "nbformat_minor": 2
}
