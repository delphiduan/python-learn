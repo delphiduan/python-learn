{
 "cells": [
  {
   "cell_type": "markdown",
   "metadata": {},
   "source": [
    "#  变量\n",
    "- 转义字符\n",
    "- 格式化\n",
    "- 内建函数（后延）\n",
    "\n",
    "## 转义字符\n",
    "- 用一个特殊的方法把不太方便和不容易写出来的字符写出来，比如空格，回车，退格\n",
    "- 借助反斜杠字符，一旦字符出现\\，后面字符失去原来的意义，进行了转义\n",
    "- 一旦出现\\字符，要小心检查代码\n",
    "    eg.换行： win： \\n\n",
    "           linux: \\r\\n\n"
   ]
  },
  {
   "cell_type": "code",
   "execution_count": 19,
   "metadata": {},
   "outputs": [
    {
     "name": "stdout",
     "output_type": "stream",
     "text": [
      "c:\\you' can do  it\n",
      "c:\\you' \r\n",
      " can do  it\n"
     ]
    }
   ],
   "source": [
    "s = 'c:\\\\you\\' can do  it' \n",
    "print(s)\n",
    "s = 'c:\\\\you\\' \\r\\n can do  it' #回车键\n",
    "print(s)"
   ]
  },
  {
   "cell_type": "markdown",
   "metadata": {},
   "source": [
    "## 字符串格式化\n",
    "- 把字符串按同一个格式打印或填空\n",
    "- 格式化有2种方法\n",
    "    - 利用%\n",
    "    - 利用format函数"
   ]
  },
  {
   "cell_type": "code",
   "execution_count": 20,
   "metadata": {},
   "outputs": [],
   "source": [
    "s = \"xxx 您好\""
   ]
  },
  {
   "cell_type": "markdown",
   "metadata": {},
   "source": [
    "### 利用百分号格式化\n",
    "- 在字符串中，利用%表示一个特殊意义，表示对字符的格式化\n",
    "- %d：此处应跟数字\n",
    "- %s：放字符串"
   ]
  },
  {
   "cell_type": "code",
   "execution_count": 21,
   "metadata": {},
   "outputs": [
    {
     "ename": "NameError",
     "evalue": "name 'S' is not defined",
     "output_type": "error",
     "traceback": [
      "\u001b[1;31m---------------------------------------------------------------------------\u001b[0m",
      "\u001b[1;31mNameError\u001b[0m                                 Traceback (most recent call last)",
      "\u001b[1;32m<ipython-input-21-3674344c7970>\u001b[0m in \u001b[0;36m<module>\u001b[1;34m()\u001b[0m\n\u001b[0;32m      1\u001b[0m \u001b[0ms\u001b[0m \u001b[1;33m=\u001b[0m \u001b[1;34m\" i love %s\"\u001b[0m\u001b[1;33m\u001b[0m\u001b[0m\n\u001b[1;32m----> 2\u001b[1;33m \u001b[0mprint\u001b[0m\u001b[1;33m(\u001b[0m\u001b[0mS\u001b[0m\u001b[1;33m)\u001b[0m\u001b[1;33m\u001b[0m\u001b[0m\n\u001b[0m",
      "\u001b[1;31mNameError\u001b[0m: name 'S' is not defined"
     ]
    }
   ],
   "source": [
    "s = \" i love %s\"\n",
    "print(S)"
   ]
  },
  {
   "cell_type": "markdown",
   "metadata": {},
   "source": [
    "NameError 90%表示字符没定义\n",
    "如果出现多个占位符，应用括号括起来"
   ]
  },
  {
   "cell_type": "code",
   "execution_count": 39,
   "metadata": {},
   "outputs": [
    {
     "name": "stdout",
     "output_type": "stream",
     "text": [
      " i love %s\n",
      " i love syumi\n",
      " i love ds, i am sds\n",
      " i love ds, i am 18\n"
     ]
    }
   ],
   "source": [
    "s = \" i love %s\"\n",
    "print(s)\n",
    "print(s%\"syumi\")\n",
    "s = \" i love %s, i am %s\"\n",
    "print(s%('ds','sds'))\n",
    "s = \" i love %s, i am %d\"\n",
    "print(s%('ds',18))"
   ]
  },
  {
   "cell_type": "markdown",
   "metadata": {},
   "source": [
    "### format函数\n",
    "- 直接用format函数进行格式化\n",
    "- 推荐\n",
    "- 用{}替换%，后面format带参数,{}还可以编号"
   ]
  },
  {
   "cell_type": "code",
   "execution_count": 45,
   "metadata": {},
   "outputs": [
    {
     "name": "stdout",
     "output_type": "stream",
     "text": [
      "i love duanfei\n",
      "i am 18,my name is delphi,my sister is 18\n"
     ]
    }
   ],
   "source": [
    "s = 'i love {}'.format('duanfei')\n",
    "print(s)\n",
    "s = 'i am {1},my name is {0},my sister is {1}'.format(\"delphi\",18)\n",
    "print(s)"
   ]
  },
  {
   "cell_type": "markdown",
   "metadata": {},
   "source": [
    "## None\n",
    "- 表示什么都没有\n",
    "- 如果函数没有返回值，可以返回None\n",
    "- 用来占位\n",
    "- 用来解除变量的绑定"
   ]
  },
  {
   "cell_type": "markdown",
   "metadata": {},
   "source": [
    "# 表达式\n",
    "- 由一个或者几个数字或变量和运算符组合成的一行代码\n",
    "- 通常会返回一个结果"
   ]
  },
  {
   "cell_type": "markdown",
   "metadata": {},
   "source": [
    "# 运算符\n",
    "- 由一个以上的值经过变化得到的新值得过程就是运算\n",
    "- 用于运算的符号叫运算符\n",
    "- 运算符的分类：\n",
    "    - 算数运算符\n",
    "    - 比较级或者关系运算符\n",
    "    - 赋值运算符\n",
    "    - 逻辑运算符\n",
    "    - 位运算\n",
    "    - 成员运算\n",
    "    - 身份运算符\n",
    "## 算数运算符\n",
    "- python 没有自增减运算符\n",
    "   "
   ]
  },
  {
   "cell_type": "code",
   "execution_count": 56,
   "metadata": {},
   "outputs": [
    {
     "name": "stdout",
     "output_type": "stream",
     "text": [
      "3\n",
      "0.6666666666666666\n",
      "1\n",
      "3\n",
      "27\n"
     ]
    }
   ],
   "source": [
    "a = 1+2\n",
    "print(a)\n",
    "a = 2/3#python2.X（取整）与python3.X不一样，以python3.X为准\n",
    "print(a)\n",
    "a = 10%3#取余\n",
    "print(a)\n",
    "#// 表示取整，地板除\n",
    "a=10//3\n",
    "print(a)\n",
    "a=3**3#幂运算\n",
    "print(a)"
   ]
  },
  {
   "cell_type": "markdown",
   "metadata": {},
   "source": [
    "## 比较运算符\n",
    "- 对两个变量或值进行比较\n",
    "- 比较的结果一定是布尔值\n"
   ]
  },
  {
   "cell_type": "code",
   "execution_count": 59,
   "metadata": {},
   "outputs": [
    {
     "name": "stdout",
     "output_type": "stream",
     "text": [
      "False\n",
      "True\n"
     ]
    }
   ],
   "source": [
    "a= 3 * 5\n",
    "b =a == 80\n",
    "print(b)\n",
    "b= a != 80\n",
    "print(b)"
   ]
  },
  {
   "cell_type": "markdown",
   "metadata": {},
   "source": [
    "## 复制运算符\n",
    "- =，赋值\n",
    "- +=，缩写"
   ]
  },
  {
   "cell_type": "code",
   "execution_count": 69,
   "metadata": {},
   "outputs": [
    {
     "name": "stdout",
     "output_type": "stream",
     "text": [
      "7\n"
     ]
    }
   ],
   "source": [
    "a=0\n",
    "a +=7#  a =a +7\n",
    "print(a)"
   ]
  },
  {
   "cell_type": "markdown",
   "metadata": {},
   "source": [
    "## 逻辑运算符\n",
    "- 对布尔值进行计算的符号\n",
    "- and ， or ，not\n",
    "- python中没有异或运算\n",
    "- 逻辑运算的短路问题\n",
    "    -逻辑运算式，按照一定运算顺序计算，一旦能够确定整个式子未来的值，则不再计算了，直接返值\n"
   ]
  },
  {
   "cell_type": "code",
   "execution_count": 85,
   "metadata": {},
   "outputs": [
    {
     "name": "stdout",
     "output_type": "stream",
     "text": [
      "True\n"
     ]
    }
   ],
   "source": [
    "a = True or SSSSSSSSSSSSSldkflerjrlknssdfd\n",
    "print(a)"
   ]
  },
  {
   "cell_type": "markdown",
   "metadata": {},
   "source": [
    "## 成员运算符号\n",
    "- in\n",
    "- not in"
   ]
  },
  {
   "cell_type": "code",
   "execution_count": 88,
   "metadata": {},
   "outputs": [
    {
     "name": "stdout",
     "output_type": "stream",
     "text": [
      "False\n",
      "True\n"
     ]
    }
   ],
   "source": [
    "l=[1,2.3]\n",
    "a= 4\n",
    "b= a in l\n",
    "print(b)\n",
    "b= a not in l\n",
    "print(b)"
   ]
  },
  {
   "cell_type": "markdown",
   "metadata": {},
   "source": [
    "## 身份运算\n",
    "- is用来检测两个变量是不是同一个变量或内存\n",
    "    /n eg. var1 is var2\n",
    "- is not 两个变量不是同一个变量    "
   ]
  },
  {
   "cell_type": "code",
   "execution_count": 94,
   "metadata": {},
   "outputs": [
    {
     "name": "stdout",
     "output_type": "stream",
     "text": [
      "True\n",
      "False\n"
     ]
    }
   ],
   "source": [
    "a = 9\n",
    "b = 9\n",
    "print(a is b)\n",
    "a =\"delphi is ok\"\n",
    "b =\"delphi is ok\"\n",
    "print(a is b)"
   ]
  },
  {
   "cell_type": "markdown",
   "metadata": {},
   "source": [
    "## 运算符的优先级问题\n",
    "- 永远记住，括号具有最高优先级\n",
    "- 优先级表格\n"
   ]
  },
  {
   "cell_type": "markdown",
   "metadata": {},
   "source": [
    "## 程序结构\n",
    "- 顺序\n",
    "- 分支\n",
    "- 循环\n"
   ]
  }
 ],
 "metadata": {
  "kernelspec": {
   "display_name": "Python 3",
   "language": "python",
   "name": "python3"
  },
  "language_info": {
   "codemirror_mode": {
    "name": "ipython",
    "version": 3
   },
   "file_extension": ".py",
   "mimetype": "text/x-python",
   "name": "python",
   "nbconvert_exporter": "python",
   "pygments_lexer": "ipython3",
   "version": "3.7.0"
  }
 },
 "nbformat": 4,
 "nbformat_minor": 2
}
