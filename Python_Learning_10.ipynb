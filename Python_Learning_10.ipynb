{
 "cells": [
  {
   "cell_type": "markdown",
   "metadata": {},
   "source": [
    "## 6.5 类的成员描述\n",
    "- 类的成员描述符为了对成员属性进行相关操作\n",
    "    - get\n",
    "    - set\n",
    "    - delete\n",
    "- 使用类的成员描述符的三种方法：\n",
    "    - 使用类实现描述器\n",
    "    - 使用属性的修饰符\n",
    "    - 使用property函数\n",
    "        - property（fget，fset，fdel.doc)\n",
    "    "
   ]
  },
  {
   "cell_type": "code",
   "execution_count": null,
   "metadata": {},
   "outputs": [],
   "source": [
    "class Person():\n",
    "    def fget(self):\n",
    "        return self._name * 2\n",
    "    def fset(self):\n",
    "        self._name = name.upper()\n",
    "    def fdel(self):\n",
    "        self._name= \"NoName\"\n",
    "    name = property(fget,fset,fdel,\"\")"
   ]
  }
 ],
 "metadata": {
  "kernelspec": {
   "display_name": "Python 3",
   "language": "python",
   "name": "python3"
  },
  "language_info": {
   "codemirror_mode": {
    "name": "ipython",
    "version": 3
   },
   "file_extension": ".py",
   "mimetype": "text/x-python",
   "name": "python",
   "nbconvert_exporter": "python",
   "pygments_lexer": "ipython3",
   "version": "3.7.0"
  }
 },
 "nbformat": 4,
 "nbformat_minor": 2
}
