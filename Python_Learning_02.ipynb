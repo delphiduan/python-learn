{
 "cells": [
  {
   "cell_type": "markdown",
   "metadata": {},
   "source": [
    "# Python基础\n",
    "     - 1.给人看\n",
    "     - 2.给机器看\n",
    "     \n",
    "- 注释\n",
    "    - 机器不执行\n",
    "    - 注释用自然语言写“”\n",
    "        - 行注释：以#号开头，也可以某行后面跟#\n",
    "               eg. # setup evn\n",
    "        - 块注释：几行代码，应用三个单引号和双引号开始和结束\n",
    "               eg. '''\n",
    "                   line 1 ……\n",
    "                   line 2 ……\n",
    "                       line 3 ……\n",
    "              '''\n",
    "              \n",
    "             \n",
    "- 变量\n",
    "\n",
    "    - 程序 = 数据结构 + 算法\n",
    "    - 变量就是重复使用的一个量，或者一个代号\n",
    "    - 变量命名的规则\n",
    "        - 变量命名可以包括数字，大小写，下划线或其他，不推荐前三种以后的符号\n",
    "        - 数字不可以打头\n",
    "        - 一版在python中，以下划线开头的内容具有特殊意义，不建议使用\n",
    "            eg. _name,  _age , __men\n",
    "            \n",
    "        - 大小写不一样，缩成大小敏感\n",
    "        \n",
    "     - 推荐\n",
    "        - 用具有固定意义的英文或者缩写\n",
    "            eg.srv=server   skt=socket，以posix命名规则为主\n",
    "         \n",
    "         - 驼峰命名法\n",
    "             - 名称以单词自然连接，每个字母偶读大写\n",
    "                 - 大驼峰,每个单词第一个大写\n",
    "                     在python中给类命名用此法\n",
    "                     eg. MyFirstLove IntOne\n",
    "                 - 小驼峰，与大驼峰类似，但第一个字符小写\n",
    "                     eg. myFirstLove intOne\n",
    "                 - posix写法,用_连接，全部小写\n",
    "                     eg. my_first_love\n",
    "     - 保留字和关键字\n",
    "         - class ，def， break， for\n",
    "         "
   ]
  },
  {
   "cell_type": "code",
   "execution_count": 3,
   "metadata": {},
   "outputs": [
    {
     "name": "stdout",
     "output_type": "stream",
     "text": [
      "['False', 'None', 'True', 'and', 'as', 'assert', 'break', 'class', 'continue', 'def', 'del', 'elif', 'else', 'except', 'finally', 'for', 'from', 'global', 'if', 'import', 'in', 'is', 'lambda', 'nonlocal', 'not', 'or', 'pass', 'raise', 'return', 'try', 'while', 'with', 'yield']\n"
     ]
    }
   ],
   "source": [
    "import keyword #引入模块\n",
    "print(keyword.kwlist)"
   ]
  },
  {
   "cell_type": "markdown",
   "metadata": {},
   "source": [
    "- 变量声明\n",
    "    - var_name= var_value #=为赋值，== 两个= 才是等于\n",
    "    - var1=var2=var3=var_value\n",
    "    - var1,var2,var3=v1,v2,v3"
   ]
  },
  {
   "cell_type": "markdown",
   "metadata": {},
   "source": [
    "## 变量类型\n",
    "    - 严格意义上就一个类型\n",
    "    - 标准来讲一共有六种\n",
    "        - 数字number\n",
    "        - 字符串str\n",
    "        - 列表list\n",
    "        - 元祖tuple\n",
    "        - 字典 dictionary\n",
    "        - 集合set\n",
    "        "
   ]
  },
  {
   "cell_type": "markdown",
   "metadata": {},
   "source": [
    "## Number数字类型\n",
    "### 整数\n",
    "    - 没有小数部分\n",
    "    - 自然数，0， 负自然数\n",
    "    - 整数分进制\n",
    "        - 二进制，0b,0,1\n",
    "        - 八进制.0o,0-7\n",
    "        - 十六进制,0x,0-9,a-f\n",
    "        - 十进制   "
   ]
  },
  {
   "cell_type": "code",
   "execution_count": 46,
   "metadata": {},
   "outputs": [
    {
     "name": "stdout",
     "output_type": "stream",
     "text": [
      "10\n",
      "10\n",
      "10\n",
      "10\n"
     ]
    }
   ],
   "source": [
    "age = 0b1010\n",
    "print(age)\n",
    "age = 0o12\n",
    "print(age)\n",
    "age = 0xa\n",
    "print(age)\n",
    "age = 10\n",
    "print(age)\n"
   ]
  },
  {
   "cell_type": "markdown",
   "metadata": {},
   "source": [
    "## 浮点数\n",
    "- 3.\n",
    "- .5\n",
    "- 有条件的省略\n",
    "- 科学计数法\n",
    "     - 176.23 == 1.7623e2\n",
    "     - 0.54 == 5.4e-1\n",
    "     "
   ]
  },
  {
   "cell_type": "markdown",
   "metadata": {},
   "source": [
    "## 复数 complex\n",
    "- 一个由实部和虚部构成数字\n",
    "- 5+3j\n",
    "- 3j\n",
    "-  （3j）\n"
   ]
  },
  {
   "cell_type": "markdown",
   "metadata": {},
   "source": [
    "### 布尔值\n",
    "- 表示真假的值\n",
    "- 只有True/Flase\n",
    "- 布尔值可以跟数字直接操作"
   ]
  },
  {
   "cell_type": "code",
   "execution_count": 51,
   "metadata": {},
   "outputs": [
    {
     "name": "stdout",
     "output_type": "stream",
     "text": [
      "19\n"
     ]
    }
   ],
   "source": [
    "age =18 + True\n",
    "print(age)"
   ]
  },
  {
   "cell_type": "markdown",
   "metadata": {},
   "source": [
    "## 字符串\n",
    "- 单引号\n",
    "- 双引号\n",
    "- 三引号"
   ]
  },
  {
   "cell_type": "code",
   "execution_count": 53,
   "metadata": {},
   "outputs": [
    {
     "name": "stdout",
     "output_type": "stream",
     "text": [
      "adsd\"sdsdm\"sdsd\n",
      "a\n",
      "dsd\"sdsdm\"sdsd'\n",
      "\n"
     ]
    }
   ],
   "source": [
    "html = 'adsd\"sdsdm\"sdsd'\n",
    "print(html)\n",
    "html = '''a\n",
    "dsd\"sdsdm\"sdsd'\n",
    "'''\n",
    "print(html)"
   ]
  }
 ],
 "metadata": {
  "kernelspec": {
   "display_name": "Python 3",
   "language": "python",
   "name": "python3"
  },
  "language_info": {
   "codemirror_mode": {
    "name": "ipython",
    "version": 3
   },
   "file_extension": ".py",
   "mimetype": "text/x-python",
   "name": "python",
   "nbconvert_exporter": "python",
   "pygments_lexer": "ipython3",
   "version": "3.6.4"
  }
 },
 "nbformat": 4,
 "nbformat_minor": 2
}
